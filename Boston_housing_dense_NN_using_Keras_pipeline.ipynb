{
  "nbformat": 4,
  "nbformat_minor": 0,
  "metadata": {
    "colab": {
      "name": "Copy of Boston housing dense NN using Keras pipeline.ipynb",
      "provenance": [],
      "collapsed_sections": [],
      "include_colab_link": true
    },
    "kernelspec": {
      "name": "python3",
      "display_name": "Python 3"
    },
    "accelerator": "TPU"
  },
  "cells": [
    {
      "cell_type": "markdown",
      "metadata": {
        "id": "view-in-github",
        "colab_type": "text"
      },
      "source": [
        "<a href=\"https://colab.research.google.com/github/serpawatwit/Lab3_CNN/blob/main/Boston_housing_dense_NN_using_Keras_pipeline.ipynb\" target=\"_parent\"><img src=\"https://colab.research.google.com/assets/colab-badge.svg\" alt=\"Open In Colab\"/></a>"
      ]
    },
    {
      "cell_type": "markdown",
      "metadata": {
        "id": "ILF1_PzO5HBl"
      },
      "source": [
        "## Predicting house prices\n",
        "\n",
        "The idea is borrowed from  Chollet (2017, p.85) [Git link](https://github.com/fchollet/deep-learning-with-python-notebooks/blob/master/3.7-predicting-house-prices.ipynb)\n",
        "\n",
        "Solves regression problem using scikit LinReg and a fully connected NN designed with Keras.\n",
        "\n",
        "See Chollet [Git link](https://github.com/fchollet/deep-learning-with-python-notebooks/blob/master/3.7-predicting-house-prices.ipynb) for K-fold validation.\n",
        "\n",
        "Given datappoints about the housing in Boston in mid 70's, predict sale price"
      ]
    },
    {
      "cell_type": "code",
      "metadata": {
        "id": "g0vsOdIG-7SP"
      },
      "source": [
        "import numpy as np\n",
        "import pandas as pd\n",
        "import matplotlib.pyplot as plt\n",
        "import tensorflow.keras as keras"
      ],
      "execution_count": 3,
      "outputs": []
    },
    {
      "cell_type": "code",
      "metadata": {
        "id": "NSG_5pNv4fPW",
        "colab": {
          "base_uri": "https://localhost:8080/"
        },
        "outputId": "587cc90a-c065-4d06-b96c-14858895adee"
      },
      "source": [
        "%tensorflow_version 1.x\n",
        "from keras.datasets import boston_housing"
      ],
      "execution_count": 4,
      "outputs": [
        {
          "output_type": "stream",
          "text": [
            "TensorFlow is already loaded. Please restart the runtime to change versions.\n"
          ],
          "name": "stdout"
        }
      ]
    },
    {
      "cell_type": "code",
      "metadata": {
        "id": "yfD5jxeH9CfP",
        "colab": {
          "base_uri": "https://localhost:8080/"
        },
        "outputId": "77be9191-ef26-4756-b9a5-9ec7213b4f17"
      },
      "source": [
        "#scikit version has descriptions:\n",
        "from sklearn.datasets import load_boston\n",
        "boston = load_boston()\n",
        "print(boston.DESCR)"
      ],
      "execution_count": 5,
      "outputs": [
        {
          "output_type": "stream",
          "text": [
            ".. _boston_dataset:\n",
            "\n",
            "Boston house prices dataset\n",
            "---------------------------\n",
            "\n",
            "**Data Set Characteristics:**  \n",
            "\n",
            "    :Number of Instances: 506 \n",
            "\n",
            "    :Number of Attributes: 13 numeric/categorical predictive. Median Value (attribute 14) is usually the target.\n",
            "\n",
            "    :Attribute Information (in order):\n",
            "        - CRIM     per capita crime rate by town\n",
            "        - ZN       proportion of residential land zoned for lots over 25,000 sq.ft.\n",
            "        - INDUS    proportion of non-retail business acres per town\n",
            "        - CHAS     Charles River dummy variable (= 1 if tract bounds river; 0 otherwise)\n",
            "        - NOX      nitric oxides concentration (parts per 10 million)\n",
            "        - RM       average number of rooms per dwelling\n",
            "        - AGE      proportion of owner-occupied units built prior to 1940\n",
            "        - DIS      weighted distances to five Boston employment centres\n",
            "        - RAD      index of accessibility to radial highways\n",
            "        - TAX      full-value property-tax rate per $10,000\n",
            "        - PTRATIO  pupil-teacher ratio by town\n",
            "        - B        1000(Bk - 0.63)^2 where Bk is the proportion of blacks by town\n",
            "        - LSTAT    % lower status of the population\n",
            "        - MEDV     Median value of owner-occupied homes in $1000's\n",
            "\n",
            "    :Missing Attribute Values: None\n",
            "\n",
            "    :Creator: Harrison, D. and Rubinfeld, D.L.\n",
            "\n",
            "This is a copy of UCI ML housing dataset.\n",
            "https://archive.ics.uci.edu/ml/machine-learning-databases/housing/\n",
            "\n",
            "\n",
            "This dataset was taken from the StatLib library which is maintained at Carnegie Mellon University.\n",
            "\n",
            "The Boston house-price data of Harrison, D. and Rubinfeld, D.L. 'Hedonic\n",
            "prices and the demand for clean air', J. Environ. Economics & Management,\n",
            "vol.5, 81-102, 1978.   Used in Belsley, Kuh & Welsch, 'Regression diagnostics\n",
            "...', Wiley, 1980.   N.B. Various transformations are used in the table on\n",
            "pages 244-261 of the latter.\n",
            "\n",
            "The Boston house-price data has been used in many machine learning papers that address regression\n",
            "problems.   \n",
            "     \n",
            ".. topic:: References\n",
            "\n",
            "   - Belsley, Kuh & Welsch, 'Regression diagnostics: Identifying Influential Data and Sources of Collinearity', Wiley, 1980. 244-261.\n",
            "   - Quinlan,R. (1993). Combining Instance-Based and Model-Based Learning. In Proceedings on the Tenth International Conference of Machine Learning, 236-243, University of Massachusetts, Amherst. Morgan Kaufmann.\n",
            "\n"
          ],
          "name": "stdout"
        }
      ]
    },
    {
      "cell_type": "code",
      "metadata": {
        "id": "WRifmFXJ9wIj",
        "colab": {
          "base_uri": "https://localhost:8080/"
        },
        "outputId": "3e5de7f2-d73a-4a84-f568-63239936b164"
      },
      "source": [
        "#Format: Dictionary \n",
        "# print(boston.keys())\n",
        "#Size it up\n",
        "print(boston.data.shape)\n",
        "#What are the 13 features?\n",
        "print(boston.feature_names)\n",
        "\n",
        "boston.target.shape"
      ],
      "execution_count": 6,
      "outputs": [
        {
          "output_type": "stream",
          "text": [
            "(506, 13)\n",
            "['CRIM' 'ZN' 'INDUS' 'CHAS' 'NOX' 'RM' 'AGE' 'DIS' 'RAD' 'TAX' 'PTRATIO'\n",
            " 'B' 'LSTAT']\n"
          ],
          "name": "stdout"
        },
        {
          "output_type": "execute_result",
          "data": {
            "text/plain": [
              "(506,)"
            ]
          },
          "metadata": {
            "tags": []
          },
          "execution_count": 6
        }
      ]
    },
    {
      "cell_type": "code",
      "metadata": {
        "id": "OqoSiTxN-iUf",
        "colab": {
          "base_uri": "https://localhost:8080/",
          "height": 317
        },
        "outputId": "c52b2d39-b692-4b5a-aa51-98080671f9c6"
      },
      "source": [
        "#info on the data.\n",
        "#pandas are pretty. \n",
        "df = pd.DataFrame(boston.data)\n",
        "df.describe()"
      ],
      "execution_count": 7,
      "outputs": [
        {
          "output_type": "execute_result",
          "data": {
            "text/html": [
              "<div>\n",
              "<style scoped>\n",
              "    .dataframe tbody tr th:only-of-type {\n",
              "        vertical-align: middle;\n",
              "    }\n",
              "\n",
              "    .dataframe tbody tr th {\n",
              "        vertical-align: top;\n",
              "    }\n",
              "\n",
              "    .dataframe thead th {\n",
              "        text-align: right;\n",
              "    }\n",
              "</style>\n",
              "<table border=\"1\" class=\"dataframe\">\n",
              "  <thead>\n",
              "    <tr style=\"text-align: right;\">\n",
              "      <th></th>\n",
              "      <th>0</th>\n",
              "      <th>1</th>\n",
              "      <th>2</th>\n",
              "      <th>3</th>\n",
              "      <th>4</th>\n",
              "      <th>5</th>\n",
              "      <th>6</th>\n",
              "      <th>7</th>\n",
              "      <th>8</th>\n",
              "      <th>9</th>\n",
              "      <th>10</th>\n",
              "      <th>11</th>\n",
              "      <th>12</th>\n",
              "    </tr>\n",
              "  </thead>\n",
              "  <tbody>\n",
              "    <tr>\n",
              "      <th>count</th>\n",
              "      <td>506.000000</td>\n",
              "      <td>506.000000</td>\n",
              "      <td>506.000000</td>\n",
              "      <td>506.000000</td>\n",
              "      <td>506.000000</td>\n",
              "      <td>506.000000</td>\n",
              "      <td>506.000000</td>\n",
              "      <td>506.000000</td>\n",
              "      <td>506.000000</td>\n",
              "      <td>506.000000</td>\n",
              "      <td>506.000000</td>\n",
              "      <td>506.000000</td>\n",
              "      <td>506.000000</td>\n",
              "    </tr>\n",
              "    <tr>\n",
              "      <th>mean</th>\n",
              "      <td>3.613524</td>\n",
              "      <td>11.363636</td>\n",
              "      <td>11.136779</td>\n",
              "      <td>0.069170</td>\n",
              "      <td>0.554695</td>\n",
              "      <td>6.284634</td>\n",
              "      <td>68.574901</td>\n",
              "      <td>3.795043</td>\n",
              "      <td>9.549407</td>\n",
              "      <td>408.237154</td>\n",
              "      <td>18.455534</td>\n",
              "      <td>356.674032</td>\n",
              "      <td>12.653063</td>\n",
              "    </tr>\n",
              "    <tr>\n",
              "      <th>std</th>\n",
              "      <td>8.601545</td>\n",
              "      <td>23.322453</td>\n",
              "      <td>6.860353</td>\n",
              "      <td>0.253994</td>\n",
              "      <td>0.115878</td>\n",
              "      <td>0.702617</td>\n",
              "      <td>28.148861</td>\n",
              "      <td>2.105710</td>\n",
              "      <td>8.707259</td>\n",
              "      <td>168.537116</td>\n",
              "      <td>2.164946</td>\n",
              "      <td>91.294864</td>\n",
              "      <td>7.141062</td>\n",
              "    </tr>\n",
              "    <tr>\n",
              "      <th>min</th>\n",
              "      <td>0.006320</td>\n",
              "      <td>0.000000</td>\n",
              "      <td>0.460000</td>\n",
              "      <td>0.000000</td>\n",
              "      <td>0.385000</td>\n",
              "      <td>3.561000</td>\n",
              "      <td>2.900000</td>\n",
              "      <td>1.129600</td>\n",
              "      <td>1.000000</td>\n",
              "      <td>187.000000</td>\n",
              "      <td>12.600000</td>\n",
              "      <td>0.320000</td>\n",
              "      <td>1.730000</td>\n",
              "    </tr>\n",
              "    <tr>\n",
              "      <th>25%</th>\n",
              "      <td>0.082045</td>\n",
              "      <td>0.000000</td>\n",
              "      <td>5.190000</td>\n",
              "      <td>0.000000</td>\n",
              "      <td>0.449000</td>\n",
              "      <td>5.885500</td>\n",
              "      <td>45.025000</td>\n",
              "      <td>2.100175</td>\n",
              "      <td>4.000000</td>\n",
              "      <td>279.000000</td>\n",
              "      <td>17.400000</td>\n",
              "      <td>375.377500</td>\n",
              "      <td>6.950000</td>\n",
              "    </tr>\n",
              "    <tr>\n",
              "      <th>50%</th>\n",
              "      <td>0.256510</td>\n",
              "      <td>0.000000</td>\n",
              "      <td>9.690000</td>\n",
              "      <td>0.000000</td>\n",
              "      <td>0.538000</td>\n",
              "      <td>6.208500</td>\n",
              "      <td>77.500000</td>\n",
              "      <td>3.207450</td>\n",
              "      <td>5.000000</td>\n",
              "      <td>330.000000</td>\n",
              "      <td>19.050000</td>\n",
              "      <td>391.440000</td>\n",
              "      <td>11.360000</td>\n",
              "    </tr>\n",
              "    <tr>\n",
              "      <th>75%</th>\n",
              "      <td>3.677083</td>\n",
              "      <td>12.500000</td>\n",
              "      <td>18.100000</td>\n",
              "      <td>0.000000</td>\n",
              "      <td>0.624000</td>\n",
              "      <td>6.623500</td>\n",
              "      <td>94.075000</td>\n",
              "      <td>5.188425</td>\n",
              "      <td>24.000000</td>\n",
              "      <td>666.000000</td>\n",
              "      <td>20.200000</td>\n",
              "      <td>396.225000</td>\n",
              "      <td>16.955000</td>\n",
              "    </tr>\n",
              "    <tr>\n",
              "      <th>max</th>\n",
              "      <td>88.976200</td>\n",
              "      <td>100.000000</td>\n",
              "      <td>27.740000</td>\n",
              "      <td>1.000000</td>\n",
              "      <td>0.871000</td>\n",
              "      <td>8.780000</td>\n",
              "      <td>100.000000</td>\n",
              "      <td>12.126500</td>\n",
              "      <td>24.000000</td>\n",
              "      <td>711.000000</td>\n",
              "      <td>22.000000</td>\n",
              "      <td>396.900000</td>\n",
              "      <td>37.970000</td>\n",
              "    </tr>\n",
              "  </tbody>\n",
              "</table>\n",
              "</div>"
            ],
            "text/plain": [
              "               0           1           2   ...          10          11          12\n",
              "count  506.000000  506.000000  506.000000  ...  506.000000  506.000000  506.000000\n",
              "mean     3.613524   11.363636   11.136779  ...   18.455534  356.674032   12.653063\n",
              "std      8.601545   23.322453    6.860353  ...    2.164946   91.294864    7.141062\n",
              "min      0.006320    0.000000    0.460000  ...   12.600000    0.320000    1.730000\n",
              "25%      0.082045    0.000000    5.190000  ...   17.400000  375.377500    6.950000\n",
              "50%      0.256510    0.000000    9.690000  ...   19.050000  391.440000   11.360000\n",
              "75%      3.677083   12.500000   18.100000  ...   20.200000  396.225000   16.955000\n",
              "max     88.976200  100.000000   27.740000  ...   22.000000  396.900000   37.970000\n",
              "\n",
              "[8 rows x 13 columns]"
            ]
          },
          "metadata": {
            "tags": []
          },
          "execution_count": 7
        }
      ]
    },
    {
      "cell_type": "markdown",
      "metadata": {
        "id": "BXZJdDmgDVY0"
      },
      "source": [
        "## Normalize data\n",
        "\n",
        "0 mean and unit variance\n",
        "\n",
        "Note: we should technically use only the train data here. "
      ]
    },
    {
      "cell_type": "code",
      "metadata": {
        "id": "t0azUGT-Ao-Z",
        "colab": {
          "base_uri": "https://localhost:8080/",
          "height": 419
        },
        "outputId": "32d4f93d-0181-4eea-b291-85404e9cf7a5"
      },
      "source": [
        "X = boston.data\n",
        "y = boston.target\n",
        "print(X.shape, y.shape)\n",
        "\n",
        "X -= X.mean(0)\n",
        "X /= X.std(0)\n",
        "\n",
        "df = pd.DataFrame(X)\n",
        "df.describe()\n"
      ],
      "execution_count": 8,
      "outputs": [
        {
          "output_type": "stream",
          "text": [
            "(506, 13) (506,)\n"
          ],
          "name": "stdout"
        },
        {
          "output_type": "execute_result",
          "data": {
            "text/html": [
              "<div>\n",
              "<style scoped>\n",
              "    .dataframe tbody tr th:only-of-type {\n",
              "        vertical-align: middle;\n",
              "    }\n",
              "\n",
              "    .dataframe tbody tr th {\n",
              "        vertical-align: top;\n",
              "    }\n",
              "\n",
              "    .dataframe thead th {\n",
              "        text-align: right;\n",
              "    }\n",
              "</style>\n",
              "<table border=\"1\" class=\"dataframe\">\n",
              "  <thead>\n",
              "    <tr style=\"text-align: right;\">\n",
              "      <th></th>\n",
              "      <th>0</th>\n",
              "      <th>1</th>\n",
              "      <th>2</th>\n",
              "      <th>3</th>\n",
              "      <th>4</th>\n",
              "      <th>5</th>\n",
              "      <th>6</th>\n",
              "      <th>7</th>\n",
              "      <th>8</th>\n",
              "      <th>9</th>\n",
              "      <th>10</th>\n",
              "      <th>11</th>\n",
              "      <th>12</th>\n",
              "    </tr>\n",
              "  </thead>\n",
              "  <tbody>\n",
              "    <tr>\n",
              "      <th>count</th>\n",
              "      <td>5.060000e+02</td>\n",
              "      <td>5.060000e+02</td>\n",
              "      <td>5.060000e+02</td>\n",
              "      <td>5.060000e+02</td>\n",
              "      <td>5.060000e+02</td>\n",
              "      <td>5.060000e+02</td>\n",
              "      <td>5.060000e+02</td>\n",
              "      <td>5.060000e+02</td>\n",
              "      <td>5.060000e+02</td>\n",
              "      <td>5.060000e+02</td>\n",
              "      <td>5.060000e+02</td>\n",
              "      <td>5.060000e+02</td>\n",
              "      <td>5.060000e+02</td>\n",
              "    </tr>\n",
              "    <tr>\n",
              "      <th>mean</th>\n",
              "      <td>-8.787437e-17</td>\n",
              "      <td>-5.285627e-16</td>\n",
              "      <td>-2.354671e-15</td>\n",
              "      <td>5.092545e-16</td>\n",
              "      <td>2.544736e-15</td>\n",
              "      <td>-1.146031e-14</td>\n",
              "      <td>-1.122510e-15</td>\n",
              "      <td>9.834031e-16</td>\n",
              "      <td>1.553873e-15</td>\n",
              "      <td>-8.012914e-16</td>\n",
              "      <td>-1.020966e-14</td>\n",
              "      <td>8.075008e-15</td>\n",
              "      <td>-3.370163e-16</td>\n",
              "    </tr>\n",
              "    <tr>\n",
              "      <th>std</th>\n",
              "      <td>1.000990e+00</td>\n",
              "      <td>1.000990e+00</td>\n",
              "      <td>1.000990e+00</td>\n",
              "      <td>1.000990e+00</td>\n",
              "      <td>1.000990e+00</td>\n",
              "      <td>1.000990e+00</td>\n",
              "      <td>1.000990e+00</td>\n",
              "      <td>1.000990e+00</td>\n",
              "      <td>1.000990e+00</td>\n",
              "      <td>1.000990e+00</td>\n",
              "      <td>1.000990e+00</td>\n",
              "      <td>1.000990e+00</td>\n",
              "      <td>1.000990e+00</td>\n",
              "    </tr>\n",
              "    <tr>\n",
              "      <th>min</th>\n",
              "      <td>-4.197819e-01</td>\n",
              "      <td>-4.877224e-01</td>\n",
              "      <td>-1.557842e+00</td>\n",
              "      <td>-2.725986e-01</td>\n",
              "      <td>-1.465882e+00</td>\n",
              "      <td>-3.880249e+00</td>\n",
              "      <td>-2.335437e+00</td>\n",
              "      <td>-1.267069e+00</td>\n",
              "      <td>-9.828429e-01</td>\n",
              "      <td>-1.313990e+00</td>\n",
              "      <td>-2.707379e+00</td>\n",
              "      <td>-3.907193e+00</td>\n",
              "      <td>-1.531127e+00</td>\n",
              "    </tr>\n",
              "    <tr>\n",
              "      <th>25%</th>\n",
              "      <td>-4.109696e-01</td>\n",
              "      <td>-4.877224e-01</td>\n",
              "      <td>-8.676906e-01</td>\n",
              "      <td>-2.725986e-01</td>\n",
              "      <td>-9.130288e-01</td>\n",
              "      <td>-5.686303e-01</td>\n",
              "      <td>-8.374480e-01</td>\n",
              "      <td>-8.056878e-01</td>\n",
              "      <td>-6.379618e-01</td>\n",
              "      <td>-7.675760e-01</td>\n",
              "      <td>-4.880391e-01</td>\n",
              "      <td>2.050715e-01</td>\n",
              "      <td>-7.994200e-01</td>\n",
              "    </tr>\n",
              "    <tr>\n",
              "      <th>50%</th>\n",
              "      <td>-3.906665e-01</td>\n",
              "      <td>-4.877224e-01</td>\n",
              "      <td>-2.110985e-01</td>\n",
              "      <td>-2.725986e-01</td>\n",
              "      <td>-1.442174e-01</td>\n",
              "      <td>-1.084655e-01</td>\n",
              "      <td>3.173816e-01</td>\n",
              "      <td>-2.793234e-01</td>\n",
              "      <td>-5.230014e-01</td>\n",
              "      <td>-4.646726e-01</td>\n",
              "      <td>2.748590e-01</td>\n",
              "      <td>3.811865e-01</td>\n",
              "      <td>-1.812536e-01</td>\n",
              "    </tr>\n",
              "    <tr>\n",
              "      <th>75%</th>\n",
              "      <td>7.396560e-03</td>\n",
              "      <td>4.877224e-02</td>\n",
              "      <td>1.015999e+00</td>\n",
              "      <td>-2.725986e-01</td>\n",
              "      <td>5.986790e-01</td>\n",
              "      <td>4.827678e-01</td>\n",
              "      <td>9.067981e-01</td>\n",
              "      <td>6.623709e-01</td>\n",
              "      <td>1.661245e+00</td>\n",
              "      <td>1.530926e+00</td>\n",
              "      <td>8.065758e-01</td>\n",
              "      <td>4.336510e-01</td>\n",
              "      <td>6.030188e-01</td>\n",
              "    </tr>\n",
              "    <tr>\n",
              "      <th>max</th>\n",
              "      <td>9.933931e+00</td>\n",
              "      <td>3.804234e+00</td>\n",
              "      <td>2.422565e+00</td>\n",
              "      <td>3.668398e+00</td>\n",
              "      <td>2.732346e+00</td>\n",
              "      <td>3.555044e+00</td>\n",
              "      <td>1.117494e+00</td>\n",
              "      <td>3.960518e+00</td>\n",
              "      <td>1.661245e+00</td>\n",
              "      <td>1.798194e+00</td>\n",
              "      <td>1.638828e+00</td>\n",
              "      <td>4.410519e-01</td>\n",
              "      <td>3.548771e+00</td>\n",
              "    </tr>\n",
              "  </tbody>\n",
              "</table>\n",
              "</div>"
            ],
            "text/plain": [
              "                 0             1   ...            11            12\n",
              "count  5.060000e+02  5.060000e+02  ...  5.060000e+02  5.060000e+02\n",
              "mean  -8.787437e-17 -5.285627e-16  ...  8.075008e-15 -3.370163e-16\n",
              "std    1.000990e+00  1.000990e+00  ...  1.000990e+00  1.000990e+00\n",
              "min   -4.197819e-01 -4.877224e-01  ... -3.907193e+00 -1.531127e+00\n",
              "25%   -4.109696e-01 -4.877224e-01  ...  2.050715e-01 -7.994200e-01\n",
              "50%   -3.906665e-01 -4.877224e-01  ...  3.811865e-01 -1.812536e-01\n",
              "75%    7.396560e-03  4.877224e-02  ...  4.336510e-01  6.030188e-01\n",
              "max    9.933931e+00  3.804234e+00  ...  4.410519e-01  3.548771e+00\n",
              "\n",
              "[8 rows x 13 columns]"
            ]
          },
          "metadata": {
            "tags": []
          },
          "execution_count": 8
        }
      ]
    },
    {
      "cell_type": "code",
      "metadata": {
        "id": "suCyXHYXDkrI",
        "colab": {
          "base_uri": "https://localhost:8080/"
        },
        "outputId": "c783afca-aacc-4a5d-e21d-afde6118aaa7"
      },
      "source": [
        "from sklearn.model_selection import train_test_split\n",
        "Xtrain, Xtest, ytrain, ytest = train_test_split(X, y, random_state=42, train_size=0.8)\n",
        "\n",
        "print(Xtrain.shape, ytrain.shape)"
      ],
      "execution_count": 9,
      "outputs": [
        {
          "output_type": "stream",
          "text": [
            "(404, 13) (404,)\n"
          ],
          "name": "stdout"
        }
      ]
    },
    {
      "cell_type": "code",
      "metadata": {
        "id": "lCaCe_6B951p",
        "colab": {
          "base_uri": "https://localhost:8080/"
        },
        "outputId": "37917cb2-ef8d-4a68-84df-d3a368dd7038"
      },
      "source": [
        "print(\"Attributes:\\n\", Xtrain[:3], \"\\n Prices:\\n\", ytrain[:3])"
      ],
      "execution_count": 10,
      "outputs": [
        {
          "output_type": "stream",
          "text": [
            "Attributes:\n",
            " [[ 1.32780421 -0.48772236  1.01599907 -0.27259857  0.51229565 -1.39706929\n",
            "   1.02148094 -0.80543822  1.66124525  1.53092646  0.80657583 -0.07887794\n",
            "   1.7181012 ]\n",
            " [-0.34750602 -0.48772236 -0.43725801 -0.27259857 -0.14421743 -0.64200019\n",
            "  -0.42939039  0.33444943 -0.6379618  -0.6012761   1.17646583  0.42701755\n",
            "  -0.5863558 ]\n",
            " [-0.41648392  1.01446252 -0.74074945 -0.27259857 -1.00891427 -0.36134243\n",
            "  -1.61000138  1.35273767 -0.98284286 -0.61909395 -0.71922039  0.06113692\n",
            "  -0.67606702]] \n",
            " Prices:\n",
            " [12.  19.9 19.4]\n"
          ],
          "name": "stdout"
        }
      ]
    },
    {
      "cell_type": "markdown",
      "metadata": {
        "id": "X-LgGXITCler"
      },
      "source": [
        "## Linear Regression"
      ]
    },
    {
      "cell_type": "markdown",
      "metadata": {
        "id": "yclxsvq9rWER"
      },
      "source": [
        "[Diabetes dataset Linear Regression Model example](https://scikit-learn.org/stable/auto_examples/linear_model/plot_ols.html)"
      ]
    },
    {
      "cell_type": "code",
      "metadata": {
        "id": "KLRplo6rAhxz"
      },
      "source": [
        "#Linear Regression\n",
        "\n",
        "from sklearn.linear_model import LinearRegression\n",
        "from sklearn.metrics import mean_squared_error\n",
        "from sklearn.metrics import mean_absolute_error\n",
        "\n",
        "#SciKit Lin Reg using the train/test split:\n",
        "#1. Create a model\n",
        "#2. Train\n",
        "#3. Predict\n",
        "\n",
        "#ME\n",
        "model = LinearRegression(fit_intercept=True)\n",
        "model.fit(Xtrain, ytrain)\n",
        "y_model = model.predict(Xtest)\n"
      ],
      "execution_count": 11,
      "outputs": []
    },
    {
      "cell_type": "code",
      "metadata": {
        "id": "nSZShaxmAg-2",
        "colab": {
          "base_uri": "https://localhost:8080/",
          "height": 329
        },
        "outputId": "8f536766-51f0-4b0b-ad22-09a9cc6925ae"
      },
      "source": [
        "#Calculate error and plot\n",
        "mse = mean_squared_error(ytest, y_model)\n",
        "print(\"MSE Linear Regression: %.2f\" % mse)\n",
        "\n",
        "#compare labels\n",
        "plt.scatter(ytest, y_model)\n",
        "plt.xlabel(\"Truth\")\n",
        "plt.ylabel(\"Predicted\")\n",
        "plt.title(\"Boston Housing True vs Predicted prices\")"
      ],
      "execution_count": 12,
      "outputs": [
        {
          "output_type": "stream",
          "text": [
            "MSE Linear Regression: 24.29\n"
          ],
          "name": "stdout"
        },
        {
          "output_type": "execute_result",
          "data": {
            "text/plain": [
              "Text(0.5, 1.0, 'Boston Housing True vs Predicted prices')"
            ]
          },
          "metadata": {
            "tags": []
          },
          "execution_count": 12
        },
        {
          "output_type": "display_data",
          "data": {
            "image/png": "[encoded data removed]",
            "text/plain": [
              "<Figure size 432x288 with 1 Axes>"
            ]
          },
          "metadata": {
            "tags": [],
            "needs_background": "light"
          }
        }
      ]
    },
    {
      "cell_type": "markdown",
      "metadata": {
        "id": "uNVBeDjTOruY"
      },
      "source": [
        "### Solution\n",
        "\n",
        "What did the model learn?"
      ]
    },
    {
      "cell_type": "code",
      "metadata": {
        "id": "FQhMSuiMDy6n",
        "colab": {
          "base_uri": "https://localhost:8080/"
        },
        "outputId": "85a95c02-f85e-4986-b88f-7e391c31a2b5"
      },
      "source": [
        "# Model weights:\n",
        "print(\"Model intercept:\", model.intercept_)\n",
        "print(\"Model slopes:    \", model.coef_)"
      ],
      "execution_count": 13,
      "outputs": [
        {
          "output_type": "stream",
          "text": [
            "Model intercept: 22.485268239316913\n",
            "Model slopes:     [-0.97149423  0.70155562  0.27675212  0.70653152 -1.99143043  3.11571836\n",
            " -0.17706021 -3.04577065  2.28278471 -1.79260468 -1.97995351  1.12649864\n",
            " -3.62814937]\n"
          ],
          "name": "stdout"
        }
      ]
    },
    {
      "cell_type": "markdown",
      "metadata": {
        "id": "IzPnc2yobWQT"
      },
      "source": [
        "### Bonus\n",
        "\n",
        "Add poly features via a pipeline\n",
        "\n",
        "What is a good degree for this model?\n",
        "\n",
        "[make_pipeline documentation](https://scikit-learn.org/stable/modules/generated/sklearn.pipeline.make_pipeline.html)"
      ]
    },
    {
      "cell_type": "code",
      "metadata": {
        "id": "oepn3GpzbeNe"
      },
      "source": [
        "from sklearn.pipeline import make_pipeline\n",
        "from sklearn.preprocessing import PolynomialFeatures\n",
        "#ME\n",
        "model = make_pipeline(PolynomialFeatures(2), LinearRegression(fit_intercept=True))\n"
      ],
      "execution_count": 14,
      "outputs": []
    },
    {
      "cell_type": "code",
      "metadata": {
        "id": "9TMwtsffcJ4a",
        "colab": {
          "base_uri": "https://localhost:8080/",
          "height": 346
        },
        "outputId": "ff58f1db-fdd7-4ecd-95f3-efffb58a78f2"
      },
      "source": [
        "#train and evaluate \n",
        "\n",
        "model.fit(Xtrain, ytrain)\n",
        "y_model = model.predict(Xtest)\n",
        "\n",
        "#Calculate error and plot\n",
        "mse = mean_squared_error(ytest, y_model)\n",
        "print(\"MSE Linear Regression: %.2f\" % mse)\n",
        "\n",
        "mae = mean_absolute_error(ytest, y_model)\n",
        "print(\"MAE Linear Regression: %.2f\" % mae)\n",
        "\n",
        "#compare labels\n",
        "plt.scatter(ytest, y_model)\n",
        "plt.xlabel(\"Truth\")\n",
        "plt.ylabel(\"Predicted\")\n",
        "plt.title(\"Boston Housing True vs Predicted prices\")"
      ],
      "execution_count": 15,
      "outputs": [
        {
          "output_type": "stream",
          "text": [
            "MSE Linear Regression: 14.25\n",
            "MAE Linear Regression: 2.57\n"
          ],
          "name": "stdout"
        },
        {
          "output_type": "execute_result",
          "data": {
            "text/plain": [
              "Text(0.5, 1.0, 'Boston Housing True vs Predicted prices')"
            ]
          },
          "metadata": {
            "tags": []
          },
          "execution_count": 15
        },
        {
          "output_type": "display_data",
          "data": {
            "image/png": "[encoded data removed]",
            "text/plain": [
              "<Figure size 432x288 with 1 Axes>"
            ]
          },
          "metadata": {
            "tags": [],
            "needs_background": "light"
          }
        }
      ]
    },
    {
      "cell_type": "markdown",
      "metadata": {
        "id": "6FO3a_51DzwV"
      },
      "source": [
        "## Dense NN using Keras"
      ]
    },
    {
      "cell_type": "code",
      "metadata": {
        "id": "f1LCwbe9Dy_x"
      },
      "source": [
        "from keras import models\n",
        "from keras import layers\n",
        "\n",
        "from keras.models import Sequential\n",
        "from keras.layers import Dense\n",
        "from keras.wrappers.scikit_learn import KerasRegressor\n",
        "from sklearn.model_selection import cross_val_score\n",
        "from sklearn.model_selection import KFold\n",
        "from sklearn.preprocessing import StandardScaler\n",
        "from sklearn.pipeline import Pipeline"
      ],
      "execution_count": 16,
      "outputs": []
    },
    {
      "cell_type": "code",
      "metadata": {
        "id": "rqvUJetHDzCO"
      },
      "source": [
        "# define model\n",
        "\n",
        "#Dense is a fully-connected NN: activation(dot(input, kernel) + bias)\n",
        "\n",
        "def ex_model():\n",
        "\t# Add layers in given order\n",
        "  model = Sequential() \n",
        "  #Seq: indicates we want to define the NN layer by layer;\n",
        "  #each layer stacks on top of the next. \n",
        "  #comes with fit,eval,predict. (and corresponding generators)\n",
        "  \n",
        "  model.add(Dense(13, input_shape=(Xtrain.shape[1],), activation='relu'))\n",
        "  #we only need input size for the first layer. After that, it will auto-fill.\n",
        "\n",
        "  model.add(Dense(1))\n",
        "  #no actications for the output layer. used for predicting a continous value.\n",
        "  # Compile model\n",
        "  model.compile(loss='mean_squared_error', optimizer='adam', metrics=['mae'])\n",
        "  return model\n"
      ],
      "execution_count": 17,
      "outputs": []
    },
    {
      "cell_type": "code",
      "metadata": {
        "id": "EP-pDCdtG0cB",
        "colab": {
          "base_uri": "https://localhost:8080/",
          "height": 669
        },
        "outputId": "a882a461-07c3-418a-b169-35ec072ac85d"
      },
      "source": [
        "model = ex_model()\n",
        "ne = 10 #number of train loops\n",
        "model.fit(Xtrain, ytrain, epochs=ne, batch_size=1, verbose=1)\n",
        "#see performance on test data using trained model\n",
        "y_nn = model.predict(Xtest)\n",
        "\n",
        "#Calculate error and plot\n",
        "mse = mean_squared_error(ytest, y_nn)\n",
        "print(\"MSE Keras example: %.2f\" % mse)\n",
        "\n",
        "#compare labels\n",
        "plt.scatter(ytest, y_model)\n",
        "plt.xlabel(\"Truth\")\n",
        "plt.ylabel(\"Predicted\")\n",
        "plt.title(\"Boston Housing True vs Predicted prices\")"
      ],
      "execution_count": 18,
      "outputs": [
        {
          "output_type": "stream",
          "text": [
            "Epoch 1/10\n",
            "404/404 [==============================] - 15s 1ms/step - loss: 632.5383 - mae: 23.2156\n",
            "Epoch 2/10\n",
            "404/404 [==============================] - 0s 1ms/step - loss: 459.6918 - mae: 19.6661\n",
            "Epoch 3/10\n",
            "404/404 [==============================] - 0s 1ms/step - loss: 205.6803 - mae: 12.1376\n",
            "Epoch 4/10\n",
            "404/404 [==============================] - 0s 1ms/step - loss: 87.5835 - mae: 7.2548\n",
            "Epoch 5/10\n",
            "404/404 [==============================] - 0s 1ms/step - loss: 58.7955 - mae: 5.3194\n",
            "Epoch 6/10\n",
            "404/404 [==============================] - 0s 1ms/step - loss: 43.0378 - mae: 4.6760\n",
            "Epoch 7/10\n",
            "404/404 [==============================] - 1s 1ms/step - loss: 40.7634 - mae: 4.4125\n",
            "Epoch 8/10\n",
            "404/404 [==============================] - 1s 1ms/step - loss: 31.9140 - mae: 3.8534\n",
            "Epoch 9/10\n",
            "404/404 [==============================] - 0s 1ms/step - loss: 22.9054 - mae: 3.5668\n",
            "Epoch 10/10\n",
            "404/404 [==============================] - 0s 1ms/step - loss: 23.0703 - mae: 3.5858\n",
            "MSE Keras example: 26.10\n"
          ],
          "name": "stdout"
        },
        {
          "output_type": "execute_result",
          "data": {
            "text/plain": [
              "Text(0.5, 1.0, 'Boston Housing True vs Predicted prices')"
            ]
          },
          "metadata": {
            "tags": []
          },
          "execution_count": 18
        },
        {
          "output_type": "display_data",
          "data": {
            "image/png": "[encoded data removed]",
            "text/plain": [
              "<Figure size 432x288 with 1 Axes>"
            ]
          },
          "metadata": {
            "tags": [],
            "needs_background": "light"
          }
        }
      ]
    },
    {
      "cell_type": "code",
      "metadata": {
        "id": "rX94HeJfDzEH"
      },
      "source": [
        "#alternative approach with cross-validation\n",
        "#model object\n",
        "# estimator = KerasRegressor(build_fn=ex_model, epochs=100, batch_size=5, verbose=1)\n",
        "# \n",
        "# cvf = KFold(n_splits=2)\n",
        "# results = cross_val_score(estimator, X, y, cv=cvf)\n",
        "# print(\"Results: %.2f (+/-%.2f) MSE\" % (results.mean(), results.std()))\n",
        "\n",
        "# Results: -88.81 (46.90) MSE"
      ],
      "execution_count": 19,
      "outputs": []
    },
    {
      "cell_type": "code",
      "metadata": {
        "id": "R_L1ExQ-K0zm"
      },
      "source": [
        ""
      ],
      "execution_count": 19,
      "outputs": []
    },
    {
      "cell_type": "markdown",
      "metadata": {
        "id": "PJm9pL6NK1LC"
      },
      "source": [
        "## Exercise\n",
        "\n",
        "Tune your own neural network to beat linear regression:\n",
        "\n",
        "`MSE Linear Regression: 24.29`\n",
        "\n",
        "What should I change? \n",
        "- train time: What is a good *ne* (number of train loops/epochs)? \n",
        "- Make the network deeper/wider\n",
        "  - tune # of layers/neurons in the model. "
      ]
    },
    {
      "cell_type": "markdown",
      "metadata": {
        "id": "90-r3iT5MCb8"
      },
      "source": [
        "### Larger model example\n",
        "\n",
        "#### How to create a deeper model?\n",
        "Add another layer to your model to make it more flexible <br>\n",
        "\n",
        "#### How to create wider models?\n",
        "increase 13 to 30.\n",
        "\n"
      ]
    },
    {
      "cell_type": "markdown",
      "metadata": {
        "id": "pHWmUXYpusnP"
      },
      "source": [
        "**Con:** The larger the model, the more coeff you have to train. This requires:\n",
        "- more data \n",
        "- more training time\n",
        "If you don't have enough data, your model will *overfit* and won't be able to generalize.\n"
      ]
    },
    {
      "cell_type": "code",
      "metadata": {
        "id": "OOfoEZu-Dp0h",
        "colab": {
          "base_uri": "https://localhost:8080/",
          "height": 1000
        },
        "outputId": "d989f7d0-214e-4158-b7bf-12e4c1f9c9f0"
      },
      "source": [
        "\n",
        "def my_model():\n",
        "\t# Add layers in given order\n",
        "  model = Sequential()\n",
        "  model.add(Dense(128, input_shape=(Xtrain.shape[1],), activation='relu'))\n",
        "  model.add(Dense(128, activation='relu'))\n",
        "  model.add(Dense(128, activation='relu'))\n",
        "  model.add(Dense(128, activation='relu'))\n",
        "  model.add(Dense(128, activation='relu'))\n",
        "  model.add(Dense(128, activation='relu'))\n",
        "  model.add(Dense(1))\n",
        "\t# Compile model\n",
        "  model.compile(loss='mean_squared_error', optimizer='adam', metrics=['mae'])\n",
        "  return model\n",
        "\n",
        "ne = 64 #number of train loops\n",
        "\n",
        "#Train\n",
        "model = my_model()\n",
        "model.fit(Xtrain, ytrain, epochs=ne, batch_size=1, verbose=1)\n",
        "\n",
        "#Test\n",
        "#see performance on test data using trained model\n",
        "y_nn = model.predict(Xtest)\n",
        "#Calculate error and plot\n",
        "mse = mean_squared_error(ytest, y_nn)\n",
        "print(\"Test: MSE my network: %.2f\" % mse)\n",
        "\n",
        "mae = mean_absolute_error(ytest, y_nn)\n",
        "print(\"Test: MAE my network: %.2f\" % mae)\n",
        "\n",
        "#compare labels\n",
        "plt.scatter(ytest, y_model)\n",
        "plt.xlabel(\"Truth\")\n",
        "plt.ylabel(\"Predicted\")\n",
        "plt.title(\"Boston Housing True vs Predicted prices\")"
      ],
      "execution_count": 24,
      "outputs": [
        {
          "output_type": "stream",
          "text": [
            "Epoch 1/64\n",
            "404/404 [==============================] - 2s 2ms/step - loss: 187.4806 - mae: 9.8724\n",
            "Epoch 2/64\n",
            "404/404 [==============================] - 1s 2ms/step - loss: 26.1411 - mae: 3.9549\n",
            "Epoch 3/64\n",
            "404/404 [==============================] - 1s 2ms/step - loss: 28.0668 - mae: 3.5870\n",
            "Epoch 4/64\n",
            "404/404 [==============================] - 1s 2ms/step - loss: 13.4062 - mae: 2.6777\n",
            "Epoch 5/64\n",
            "404/404 [==============================] - 1s 2ms/step - loss: 22.2171 - mae: 3.6685\n",
            "Epoch 6/64\n",
            "404/404 [==============================] - 1s 2ms/step - loss: 10.5264 - mae: 2.3211\n",
            "Epoch 7/64\n",
            "404/404 [==============================] - 1s 2ms/step - loss: 17.6607 - mae: 3.1024\n",
            "Epoch 8/64\n",
            "404/404 [==============================] - 1s 2ms/step - loss: 13.5103 - mae: 2.6621\n",
            "Epoch 9/64\n",
            "404/404 [==============================] - 1s 2ms/step - loss: 16.9135 - mae: 3.1559\n",
            "Epoch 10/64\n",
            "404/404 [==============================] - 1s 2ms/step - loss: 10.8770 - mae: 2.4555\n",
            "Epoch 11/64\n",
            "404/404 [==============================] - 1s 2ms/step - loss: 9.1315 - mae: 2.2570\n",
            "Epoch 12/64\n",
            "404/404 [==============================] - 1s 2ms/step - loss: 11.5523 - mae: 2.5516\n",
            "Epoch 13/64\n",
            "404/404 [==============================] - 1s 2ms/step - loss: 9.0518 - mae: 2.3013\n",
            "Epoch 14/64\n",
            "404/404 [==============================] - 1s 2ms/step - loss: 12.8628 - mae: 2.6659\n",
            "Epoch 15/64\n",
            "404/404 [==============================] - 1s 2ms/step - loss: 8.6228 - mae: 2.1684\n",
            "Epoch 16/64\n",
            "404/404 [==============================] - 1s 2ms/step - loss: 11.0688 - mae: 2.4398\n",
            "Epoch 17/64\n",
            "404/404 [==============================] - 1s 2ms/step - loss: 6.5592 - mae: 1.9371\n",
            "Epoch 18/64\n",
            "404/404 [==============================] - 1s 2ms/step - loss: 10.3582 - mae: 2.3443\n",
            "Epoch 19/64\n",
            "404/404 [==============================] - 1s 2ms/step - loss: 9.8217 - mae: 2.2760\n",
            "Epoch 20/64\n",
            "404/404 [==============================] - 1s 2ms/step - loss: 4.7265 - mae: 1.6931\n",
            "Epoch 21/64\n",
            "404/404 [==============================] - 1s 2ms/step - loss: 10.1968 - mae: 2.3400\n",
            "Epoch 22/64\n",
            "404/404 [==============================] - 1s 2ms/step - loss: 4.6505 - mae: 1.6015\n",
            "Epoch 23/64\n",
            "404/404 [==============================] - 1s 2ms/step - loss: 8.9869 - mae: 2.2675\n",
            "Epoch 24/64\n",
            "404/404 [==============================] - 1s 2ms/step - loss: 6.4399 - mae: 1.9424\n",
            "Epoch 25/64\n",
            "404/404 [==============================] - 1s 2ms/step - loss: 9.8378 - mae: 2.3131\n",
            "Epoch 26/64\n",
            "404/404 [==============================] - 1s 2ms/step - loss: 5.7638 - mae: 1.7191\n",
            "Epoch 27/64\n",
            "404/404 [==============================] - 1s 2ms/step - loss: 5.2519 - mae: 1.7513\n",
            "Epoch 28/64\n",
            "404/404 [==============================] - 1s 2ms/step - loss: 6.4493 - mae: 1.8988\n",
            "Epoch 29/64\n",
            "404/404 [==============================] - 1s 2ms/step - loss: 6.4588 - mae: 1.8276\n",
            "Epoch 30/64\n",
            "404/404 [==============================] - 1s 2ms/step - loss: 7.2841 - mae: 1.9816\n",
            "Epoch 31/64\n",
            "404/404 [==============================] - 1s 2ms/step - loss: 4.9577 - mae: 1.6706\n",
            "Epoch 32/64\n",
            "404/404 [==============================] - 1s 3ms/step - loss: 5.2169 - mae: 1.7452\n",
            "Epoch 33/64\n",
            "404/404 [==============================] - 1s 2ms/step - loss: 3.9322 - mae: 1.5105\n",
            "Epoch 34/64\n",
            "404/404 [==============================] - 1s 2ms/step - loss: 3.8618 - mae: 1.5116\n",
            "Epoch 35/64\n",
            "404/404 [==============================] - 1s 2ms/step - loss: 4.6282 - mae: 1.6032\n",
            "Epoch 36/64\n",
            "404/404 [==============================] - 1s 2ms/step - loss: 5.9342 - mae: 1.6655\n",
            "Epoch 37/64\n",
            "404/404 [==============================] - 1s 2ms/step - loss: 4.3345 - mae: 1.5327\n",
            "Epoch 38/64\n",
            "404/404 [==============================] - 1s 2ms/step - loss: 4.4036 - mae: 1.5113\n",
            "Epoch 39/64\n",
            "404/404 [==============================] - 1s 2ms/step - loss: 4.2550 - mae: 1.4748\n",
            "Epoch 40/64\n",
            "404/404 [==============================] - 1s 2ms/step - loss: 3.5075 - mae: 1.4515\n",
            "Epoch 41/64\n",
            "404/404 [==============================] - 1s 2ms/step - loss: 3.4760 - mae: 1.4004\n",
            "Epoch 42/64\n",
            "404/404 [==============================] - 1s 2ms/step - loss: 3.4134 - mae: 1.3018\n",
            "Epoch 43/64\n",
            "404/404 [==============================] - 1s 2ms/step - loss: 4.4614 - mae: 1.4865\n",
            "Epoch 44/64\n",
            "404/404 [==============================] - 1s 2ms/step - loss: 6.3528 - mae: 1.7931\n",
            "Epoch 45/64\n",
            "404/404 [==============================] - 1s 2ms/step - loss: 3.7117 - mae: 1.4186\n",
            "Epoch 46/64\n",
            "404/404 [==============================] - 1s 2ms/step - loss: 3.6468 - mae: 1.4244\n",
            "Epoch 47/64\n",
            "404/404 [==============================] - 1s 2ms/step - loss: 2.8843 - mae: 1.2672\n",
            "Epoch 48/64\n",
            "404/404 [==============================] - 1s 2ms/step - loss: 6.0144 - mae: 1.7332\n",
            "Epoch 49/64\n",
            "404/404 [==============================] - 1s 2ms/step - loss: 4.2089 - mae: 1.3766\n",
            "Epoch 50/64\n",
            "404/404 [==============================] - 1s 2ms/step - loss: 2.2892 - mae: 1.1385\n",
            "Epoch 51/64\n",
            "404/404 [==============================] - 1s 2ms/step - loss: 2.2592 - mae: 1.0669\n",
            "Epoch 52/64\n",
            "404/404 [==============================] - 1s 2ms/step - loss: 4.5285 - mae: 1.4790\n",
            "Epoch 53/64\n",
            "404/404 [==============================] - 1s 2ms/step - loss: 3.1128 - mae: 1.3483\n",
            "Epoch 54/64\n",
            "404/404 [==============================] - 1s 2ms/step - loss: 4.0874 - mae: 1.5095\n",
            "Epoch 55/64\n",
            "404/404 [==============================] - 1s 2ms/step - loss: 2.2514 - mae: 1.0874\n",
            "Epoch 56/64\n",
            "404/404 [==============================] - 1s 2ms/step - loss: 2.5505 - mae: 1.1556\n",
            "Epoch 57/64\n",
            "404/404 [==============================] - 1s 2ms/step - loss: 2.6834 - mae: 1.1884\n",
            "Epoch 58/64\n",
            "404/404 [==============================] - 1s 2ms/step - loss: 3.5253 - mae: 1.3343\n",
            "Epoch 59/64\n",
            "404/404 [==============================] - 1s 2ms/step - loss: 4.1925 - mae: 1.4740\n",
            "Epoch 60/64\n",
            "404/404 [==============================] - 1s 2ms/step - loss: 3.6543 - mae: 1.3246\n",
            "Epoch 61/64\n",
            "404/404 [==============================] - 1s 2ms/step - loss: 3.2372 - mae: 1.3340\n",
            "Epoch 62/64\n",
            "404/404 [==============================] - 1s 2ms/step - loss: 2.4154 - mae: 1.1010\n",
            "Epoch 63/64\n",
            "404/404 [==============================] - 1s 2ms/step - loss: 2.8431 - mae: 1.2707\n",
            "Epoch 64/64\n",
            "404/404 [==============================] - 1s 2ms/step - loss: 3.2641 - mae: 1.3317\n",
            "Test: MSE my network: 9.35\n",
            "Test: MAE my network: 1.96\n"
          ],
          "name": "stdout"
        },
        {
          "output_type": "execute_result",
          "data": {
            "text/plain": [
              "Text(0.5, 1.0, 'Boston Housing True vs Predicted prices')"
            ]
          },
          "metadata": {
            "tags": []
          },
          "execution_count": 24
        },
        {
          "output_type": "display_data",
          "data": {
            "image/png": "[encoded data removed]",
            "text/plain": [
              "<Figure size 432x288 with 1 Axes>"
            ]
          },
          "metadata": {
            "tags": [],
            "needs_background": "light"
          }
        }
      ]
    },
    {
      "cell_type": "markdown",
      "metadata": {
        "id": "aEmpZctXQHIL"
      },
      "source": [
        "### What did we learn?"
      ]
    },
    {
      "cell_type": "code",
      "metadata": {
        "id": "zrW6Zb3CLZv2",
        "colab": {
          "base_uri": "https://localhost:8080/"
        },
        "outputId": "49764022-479a-4792-dfeb-e3029852ec5e"
      },
      "source": [
        "weights, bias = model.layers[1].get_weights()\n",
        "\n",
        "print('Weights size: \\n', weights.shape)\n",
        "      \n",
        "print('Weights: \\n', weights,'\\n Bias: \\n' ,bias)"
      ],
      "execution_count": 25,
      "outputs": [
        {
          "output_type": "stream",
          "text": [
            "Weights size: \n",
            " (128, 128)\n",
            "Weights: \n",
            " [[-0.0509224  -0.16835162 -0.07230231 ... -0.09673718  0.05411316\n",
            "   0.07694514]\n",
            " [ 0.01358086 -0.08805986 -0.09610755 ... -0.06615949 -0.0041394\n",
            "   0.00945095]\n",
            " [-0.08083215 -0.140237    0.01268332 ... -0.01939504 -0.1221143\n",
            "  -0.17917483]\n",
            " ...\n",
            " [-0.05454574 -0.09196351 -0.16314931 ... -0.06571567 -0.05218479\n",
            "   0.0019008 ]\n",
            " [-0.16589198  0.10708933 -0.1465408  ... -0.10777821 -0.02358813\n",
            "  -0.06007026]\n",
            " [ 0.05531076  0.01958056 -0.15417323 ... -0.19171563  0.07478539\n",
            "  -0.22529955]] \n",
            " Bias: \n",
            " [ 0.00234629 -0.0724202  -0.10127895 -0.0559373   0.09293864 -0.05833036\n",
            " -0.11499344 -0.09268121 -0.07756374 -0.08014223 -0.11411883 -0.30342892\n",
            " -0.04128135 -0.0175024  -0.04658334 -0.11414726 -0.0853135  -0.05347545\n",
            " -0.06677251 -0.0845102   0.04704467 -0.06316181 -0.01959074  0.15304554\n",
            " -0.03792357 -0.12680335  0.11214549  0.06419297 -0.05008907 -0.01157559\n",
            "  0.00387616 -0.044511    0.01147052 -0.05577702 -0.0435044  -0.09192763\n",
            " -0.02558393 -0.03034126 -0.02893941 -0.04308965 -0.04508213  0.05462583\n",
            " -0.17312874 -0.07460119 -0.06737755  0.17978707 -0.02186935  0.0569947\n",
            " -0.07965658  0.15417616  0.04951485 -0.03272691  0.05887416 -0.03199308\n",
            " -0.05675486 -0.0318788  -0.01833682  0.16971949 -0.04843041 -0.07613203\n",
            " -0.05857912 -0.07162134  0.07174838  0.02948215 -0.08501877 -0.00928461\n",
            "  0.00087796  0.06377915  0.03956978  0.076975   -0.05358974 -0.04280679\n",
            "  0.05507318 -0.07587987 -0.01194028  0.00555225  0.15503025 -0.02268676\n",
            " -0.04807058  0.18199828 -0.2591157   0.01320187  0.00941043 -0.11891014\n",
            " -0.0871667   0.1220851   0.00127256 -0.05963805 -0.06903385 -0.03834732\n",
            "  0.05875284 -0.07166512 -0.06531423 -0.06323051 -0.03864998  0.1360557\n",
            "  0.0614565  -0.11898907 -0.03452792 -0.00882727 -0.08209588 -0.17201793\n",
            " -0.08987448  0.19125766 -0.05484994 -0.15744066 -0.04308338  0.00777933\n",
            " -0.08505026 -0.06278908 -0.04148721 -0.0460639  -0.06870027 -0.08029576\n",
            " -0.10468022 -0.10965152 -0.07602937  0.00640624 -0.11698943 -0.04005954\n",
            "  0.11650822 -0.08399189  0.00050928 -0.11034638 -0.05505894 -0.11551798\n",
            " -0.05755823 -0.05690233]\n"
          ],
          "name": "stdout"
        }
      ]
    },
    {
      "cell_type": "code",
      "metadata": {
        "id": "w-e1yqfvPCJD"
      },
      "source": [
        ""
      ],
      "execution_count": null,
      "outputs": []
    }
  ]
}