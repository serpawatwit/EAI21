{
  "nbformat": 4,
  "nbformat_minor": 0,
  "metadata": {
    "colab": {
      "name": "Copy of Boston housing dense NN using Keras pipeline.ipynb",
      "provenance": [],
      "collapsed_sections": [],
      "include_colab_link": true
    },
    "kernelspec": {
      "name": "python3",
      "display_name": "Python 3"
    },
    "accelerator": "TPU"
  },
  "cells": [
    {
      "cell_type": "markdown",
      "metadata": {
        "id": "view-in-github",
        "colab_type": "text"
      },
      "source": [
        "<a href=\"https://colab.research.google.com/github/serpawatwit/EAI21/blob/main/Boston_housing_dense_NN_using_Keras_pipeline.ipynb\" target=\"_parent\"><img src=\"https://colab.research.google.com/assets/colab-badge.svg\" alt=\"Open In Colab\"/></a>"
      ]
    },
    {
      "cell_type": "markdown",
      "metadata": {
        "id": "ILF1_PzO5HBl"
      },
      "source": [
        "## Predicting house prices\n",
        "\n",
        "The idea is borrowed from  Chollet (2017, p.85) [Git link](https://github.com/fchollet/deep-learning-with-python-notebooks/blob/master/3.7-predicting-house-prices.ipynb)\n",
        "\n",
        "Solves regression problem using scikit LinReg and a fully connected NN designed with Keras.\n",
        "\n",
        "See Chollet [Git link](https://github.com/fchollet/deep-learning-with-python-notebooks/blob/master/3.7-predicting-house-prices.ipynb) for K-fold validation.\n",
        "\n",
        "Given datappoints about the housing in Boston in mid 70's, predict sale price"
      ]
    },
    {
      "cell_type": "code",
      "metadata": {
        "id": "g0vsOdIG-7SP"
      },
      "source": [
        "import numpy as np\n",
        "import pandas as pd\n",
        "import matplotlib.pyplot as plt\n",
        "import tensorflow.keras as keras"
      ],
      "execution_count": 1,
      "outputs": []
    },
    {
      "cell_type": "code",
      "metadata": {
        "id": "NSG_5pNv4fPW",
        "colab": {
          "base_uri": "https://localhost:8080/"
        },
        "outputId": "e4d5b30c-2274-4cce-c802-c8fbb867cd6b"
      },
      "source": [
        "%tensorflow_version 1.x\n",
        "from keras.datasets import boston_housing"
      ],
      "execution_count": 2,
      "outputs": [
        {
          "output_type": "stream",
          "text": [
            "TensorFlow is already loaded. Please restart the runtime to change versions.\n"
          ],
          "name": "stdout"
        }
      ]
    },
    {
      "cell_type": "code",
      "metadata": {
        "id": "yfD5jxeH9CfP",
        "colab": {
          "base_uri": "https://localhost:8080/"
        },
        "outputId": "f81d035f-d90c-4cb0-f2c6-102768981d02"
      },
      "source": [
        "#scikit version has descriptions:\n",
        "from sklearn.datasets import load_boston\n",
        "boston = load_boston()\n",
        "print(boston.DESCR)"
      ],
      "execution_count": 3,
      "outputs": [
        {
          "output_type": "stream",
          "text": [
            ".. _boston_dataset:\n",
            "\n",
            "Boston house prices dataset\n",
            "---------------------------\n",
            "\n",
            "**Data Set Characteristics:**  \n",
            "\n",
            "    :Number of Instances: 506 \n",
            "\n",
            "    :Number of Attributes: 13 numeric/categorical predictive. Median Value (attribute 14) is usually the target.\n",
            "\n",
            "    :Attribute Information (in order):\n",
            "        - CRIM     per capita crime rate by town\n",
            "        - ZN       proportion of residential land zoned for lots over 25,000 sq.ft.\n",
            "        - INDUS    proportion of non-retail business acres per town\n",
            "        - CHAS     Charles River dummy variable (= 1 if tract bounds river; 0 otherwise)\n",
            "        - NOX      nitric oxides concentration (parts per 10 million)\n",
            "        - RM       average number of rooms per dwelling\n",
            "        - AGE      proportion of owner-occupied units built prior to 1940\n",
            "        - DIS      weighted distances to five Boston employment centres\n",
            "        - RAD      index of accessibility to radial highways\n",
            "        - TAX      full-value property-tax rate per $10,000\n",
            "        - PTRATIO  pupil-teacher ratio by town\n",
            "        - B        1000(Bk - 0.63)^2 where Bk is the proportion of blacks by town\n",
            "        - LSTAT    % lower status of the population\n",
            "        - MEDV     Median value of owner-occupied homes in $1000's\n",
            "\n",
            "    :Missing Attribute Values: None\n",
            "\n",
            "    :Creator: Harrison, D. and Rubinfeld, D.L.\n",
            "\n",
            "This is a copy of UCI ML housing dataset.\n",
            "https://archive.ics.uci.edu/ml/machine-learning-databases/housing/\n",
            "\n",
            "\n",
            "This dataset was taken from the StatLib library which is maintained at Carnegie Mellon University.\n",
            "\n",
            "The Boston house-price data of Harrison, D. and Rubinfeld, D.L. 'Hedonic\n",
            "prices and the demand for clean air', J. Environ. Economics & Management,\n",
            "vol.5, 81-102, 1978.   Used in Belsley, Kuh & Welsch, 'Regression diagnostics\n",
            "...', Wiley, 1980.   N.B. Various transformations are used in the table on\n",
            "pages 244-261 of the latter.\n",
            "\n",
            "The Boston house-price data has been used in many machine learning papers that address regression\n",
            "problems.   \n",
            "     \n",
            ".. topic:: References\n",
            "\n",
            "   - Belsley, Kuh & Welsch, 'Regression diagnostics: Identifying Influential Data and Sources of Collinearity', Wiley, 1980. 244-261.\n",
            "   - Quinlan,R. (1993). Combining Instance-Based and Model-Based Learning. In Proceedings on the Tenth International Conference of Machine Learning, 236-243, University of Massachusetts, Amherst. Morgan Kaufmann.\n",
            "\n"
          ],
          "name": "stdout"
        }
      ]
    },
    {
      "cell_type": "code",
      "metadata": {
        "id": "WRifmFXJ9wIj",
        "colab": {
          "base_uri": "https://localhost:8080/"
        },
        "outputId": "6750b1d8-3209-4127-ad87-da55598f2aed"
      },
      "source": [
        "#Format: Dictionary \n",
        "# print(boston.keys())\n",
        "#Size it up\n",
        "print(boston.data.shape)\n",
        "#What are the 13 features?\n",
        "print(boston.feature_names)\n",
        "\n",
        "boston.target.shape"
      ],
      "execution_count": 4,
      "outputs": [
        {
          "output_type": "stream",
          "text": [
            "(506, 13)\n",
            "['CRIM' 'ZN' 'INDUS' 'CHAS' 'NOX' 'RM' 'AGE' 'DIS' 'RAD' 'TAX' 'PTRATIO'\n",
            " 'B' 'LSTAT']\n"
          ],
          "name": "stdout"
        },
        {
          "output_type": "execute_result",
          "data": {
            "text/plain": [
              "(506,)"
            ]
          },
          "metadata": {
            "tags": []
          },
          "execution_count": 4
        }
      ]
    },
    {
      "cell_type": "code",
      "metadata": {
        "id": "OqoSiTxN-iUf",
        "colab": {
          "base_uri": "https://localhost:8080/",
          "height": 297
        },
        "outputId": "f0e66e48-3365-495b-8ec4-7052975362d7"
      },
      "source": [
        "#info on the data.\n",
        "#pandas are pretty. \n",
        "df = pd.DataFrame(boston.data)\n",
        "df.describe()"
      ],
      "execution_count": 5,
      "outputs": [
        {
          "output_type": "execute_result",
          "data": {
            "text/html": [
              "<div>\n",
              "<style scoped>\n",
              "    .dataframe tbody tr th:only-of-type {\n",
              "        vertical-align: middle;\n",
              "    }\n",
              "\n",
              "    .dataframe tbody tr th {\n",
              "        vertical-align: top;\n",
              "    }\n",
              "\n",
              "    .dataframe thead th {\n",
              "        text-align: right;\n",
              "    }\n",
              "</style>\n",
              "<table border=\"1\" class=\"dataframe\">\n",
              "  <thead>\n",
              "    <tr style=\"text-align: right;\">\n",
              "      <th></th>\n",
              "      <th>0</th>\n",
              "      <th>1</th>\n",
              "      <th>2</th>\n",
              "      <th>3</th>\n",
              "      <th>4</th>\n",
              "      <th>5</th>\n",
              "      <th>6</th>\n",
              "      <th>7</th>\n",
              "      <th>8</th>\n",
              "      <th>9</th>\n",
              "      <th>10</th>\n",
              "      <th>11</th>\n",
              "      <th>12</th>\n",
              "    </tr>\n",
              "  </thead>\n",
              "  <tbody>\n",
              "    <tr>\n",
              "      <th>count</th>\n",
              "      <td>506.000000</td>\n",
              "      <td>506.000000</td>\n",
              "      <td>506.000000</td>\n",
              "      <td>506.000000</td>\n",
              "      <td>506.000000</td>\n",
              "      <td>506.000000</td>\n",
              "      <td>506.000000</td>\n",
              "      <td>506.000000</td>\n",
              "      <td>506.000000</td>\n",
              "      <td>506.000000</td>\n",
              "      <td>506.000000</td>\n",
              "      <td>506.000000</td>\n",
              "      <td>506.000000</td>\n",
              "    </tr>\n",
              "    <tr>\n",
              "      <th>mean</th>\n",
              "      <td>3.613524</td>\n",
              "      <td>11.363636</td>\n",
              "      <td>11.136779</td>\n",
              "      <td>0.069170</td>\n",
              "      <td>0.554695</td>\n",
              "      <td>6.284634</td>\n",
              "      <td>68.574901</td>\n",
              "      <td>3.795043</td>\n",
              "      <td>9.549407</td>\n",
              "      <td>408.237154</td>\n",
              "      <td>18.455534</td>\n",
              "      <td>356.674032</td>\n",
              "      <td>12.653063</td>\n",
              "    </tr>\n",
              "    <tr>\n",
              "      <th>std</th>\n",
              "      <td>8.601545</td>\n",
              "      <td>23.322453</td>\n",
              "      <td>6.860353</td>\n",
              "      <td>0.253994</td>\n",
              "      <td>0.115878</td>\n",
              "      <td>0.702617</td>\n",
              "      <td>28.148861</td>\n",
              "      <td>2.105710</td>\n",
              "      <td>8.707259</td>\n",
              "      <td>168.537116</td>\n",
              "      <td>2.164946</td>\n",
              "      <td>91.294864</td>\n",
              "      <td>7.141062</td>\n",
              "    </tr>\n",
              "    <tr>\n",
              "      <th>min</th>\n",
              "      <td>0.006320</td>\n",
              "      <td>0.000000</td>\n",
              "      <td>0.460000</td>\n",
              "      <td>0.000000</td>\n",
              "      <td>0.385000</td>\n",
              "      <td>3.561000</td>\n",
              "      <td>2.900000</td>\n",
              "      <td>1.129600</td>\n",
              "      <td>1.000000</td>\n",
              "      <td>187.000000</td>\n",
              "      <td>12.600000</td>\n",
              "      <td>0.320000</td>\n",
              "      <td>1.730000</td>\n",
              "    </tr>\n",
              "    <tr>\n",
              "      <th>25%</th>\n",
              "      <td>0.082045</td>\n",
              "      <td>0.000000</td>\n",
              "      <td>5.190000</td>\n",
              "      <td>0.000000</td>\n",
              "      <td>0.449000</td>\n",
              "      <td>5.885500</td>\n",
              "      <td>45.025000</td>\n",
              "      <td>2.100175</td>\n",
              "      <td>4.000000</td>\n",
              "      <td>279.000000</td>\n",
              "      <td>17.400000</td>\n",
              "      <td>375.377500</td>\n",
              "      <td>6.950000</td>\n",
              "    </tr>\n",
              "    <tr>\n",
              "      <th>50%</th>\n",
              "      <td>0.256510</td>\n",
              "      <td>0.000000</td>\n",
              "      <td>9.690000</td>\n",
              "      <td>0.000000</td>\n",
              "      <td>0.538000</td>\n",
              "      <td>6.208500</td>\n",
              "      <td>77.500000</td>\n",
              "      <td>3.207450</td>\n",
              "      <td>5.000000</td>\n",
              "      <td>330.000000</td>\n",
              "      <td>19.050000</td>\n",
              "      <td>391.440000</td>\n",
              "      <td>11.360000</td>\n",
              "    </tr>\n",
              "    <tr>\n",
              "      <th>75%</th>\n",
              "      <td>3.677083</td>\n",
              "      <td>12.500000</td>\n",
              "      <td>18.100000</td>\n",
              "      <td>0.000000</td>\n",
              "      <td>0.624000</td>\n",
              "      <td>6.623500</td>\n",
              "      <td>94.075000</td>\n",
              "      <td>5.188425</td>\n",
              "      <td>24.000000</td>\n",
              "      <td>666.000000</td>\n",
              "      <td>20.200000</td>\n",
              "      <td>396.225000</td>\n",
              "      <td>16.955000</td>\n",
              "    </tr>\n",
              "    <tr>\n",
              "      <th>max</th>\n",
              "      <td>88.976200</td>\n",
              "      <td>100.000000</td>\n",
              "      <td>27.740000</td>\n",
              "      <td>1.000000</td>\n",
              "      <td>0.871000</td>\n",
              "      <td>8.780000</td>\n",
              "      <td>100.000000</td>\n",
              "      <td>12.126500</td>\n",
              "      <td>24.000000</td>\n",
              "      <td>711.000000</td>\n",
              "      <td>22.000000</td>\n",
              "      <td>396.900000</td>\n",
              "      <td>37.970000</td>\n",
              "    </tr>\n",
              "  </tbody>\n",
              "</table>\n",
              "</div>"
            ],
            "text/plain": [
              "               0           1           2   ...          10          11          12\n",
              "count  506.000000  506.000000  506.000000  ...  506.000000  506.000000  506.000000\n",
              "mean     3.613524   11.363636   11.136779  ...   18.455534  356.674032   12.653063\n",
              "std      8.601545   23.322453    6.860353  ...    2.164946   91.294864    7.141062\n",
              "min      0.006320    0.000000    0.460000  ...   12.600000    0.320000    1.730000\n",
              "25%      0.082045    0.000000    5.190000  ...   17.400000  375.377500    6.950000\n",
              "50%      0.256510    0.000000    9.690000  ...   19.050000  391.440000   11.360000\n",
              "75%      3.677083   12.500000   18.100000  ...   20.200000  396.225000   16.955000\n",
              "max     88.976200  100.000000   27.740000  ...   22.000000  396.900000   37.970000\n",
              "\n",
              "[8 rows x 13 columns]"
            ]
          },
          "metadata": {
            "tags": []
          },
          "execution_count": 5
        }
      ]
    },
    {
      "cell_type": "markdown",
      "metadata": {
        "id": "BXZJdDmgDVY0"
      },
      "source": [
        "## Normalize data\n",
        "\n",
        "0 mean and unit variance\n",
        "\n",
        "Note: we should technically use only the train data here. "
      ]
    },
    {
      "cell_type": "code",
      "metadata": {
        "id": "t0azUGT-Ao-Z",
        "colab": {
          "base_uri": "https://localhost:8080/",
          "height": 314
        },
        "outputId": "a5680967-097f-4edf-8e56-fa52cae10677"
      },
      "source": [
        "X = boston.data\n",
        "y = boston.target\n",
        "print(X.shape, y.shape)\n",
        "\n",
        "X -= X.mean(0)\n",
        "X /= X.std(0)\n",
        "\n",
        "df = pd.DataFrame(X)\n",
        "df.describe()\n"
      ],
      "execution_count": 6,
      "outputs": [
        {
          "output_type": "stream",
          "text": [
            "(506, 13) (506,)\n"
          ],
          "name": "stdout"
        },
        {
          "output_type": "execute_result",
          "data": {
            "text/html": [
              "<div>\n",
              "<style scoped>\n",
              "    .dataframe tbody tr th:only-of-type {\n",
              "        vertical-align: middle;\n",
              "    }\n",
              "\n",
              "    .dataframe tbody tr th {\n",
              "        vertical-align: top;\n",
              "    }\n",
              "\n",
              "    .dataframe thead th {\n",
              "        text-align: right;\n",
              "    }\n",
              "</style>\n",
              "<table border=\"1\" class=\"dataframe\">\n",
              "  <thead>\n",
              "    <tr style=\"text-align: right;\">\n",
              "      <th></th>\n",
              "      <th>0</th>\n",
              "      <th>1</th>\n",
              "      <th>2</th>\n",
              "      <th>3</th>\n",
              "      <th>4</th>\n",
              "      <th>5</th>\n",
              "      <th>6</th>\n",
              "      <th>7</th>\n",
              "      <th>8</th>\n",
              "      <th>9</th>\n",
              "      <th>10</th>\n",
              "      <th>11</th>\n",
              "      <th>12</th>\n",
              "    </tr>\n",
              "  </thead>\n",
              "  <tbody>\n",
              "    <tr>\n",
              "      <th>count</th>\n",
              "      <td>5.060000e+02</td>\n",
              "      <td>5.060000e+02</td>\n",
              "      <td>5.060000e+02</td>\n",
              "      <td>5.060000e+02</td>\n",
              "      <td>5.060000e+02</td>\n",
              "      <td>5.060000e+02</td>\n",
              "      <td>5.060000e+02</td>\n",
              "      <td>5.060000e+02</td>\n",
              "      <td>5.060000e+02</td>\n",
              "      <td>5.060000e+02</td>\n",
              "      <td>5.060000e+02</td>\n",
              "      <td>5.060000e+02</td>\n",
              "      <td>5.060000e+02</td>\n",
              "    </tr>\n",
              "    <tr>\n",
              "      <th>mean</th>\n",
              "      <td>-8.787437e-17</td>\n",
              "      <td>-5.285627e-16</td>\n",
              "      <td>-2.354671e-15</td>\n",
              "      <td>5.092545e-16</td>\n",
              "      <td>2.544736e-15</td>\n",
              "      <td>-1.146031e-14</td>\n",
              "      <td>-1.122510e-15</td>\n",
              "      <td>9.834031e-16</td>\n",
              "      <td>1.553873e-15</td>\n",
              "      <td>-8.012914e-16</td>\n",
              "      <td>-1.020966e-14</td>\n",
              "      <td>8.075008e-15</td>\n",
              "      <td>-3.370163e-16</td>\n",
              "    </tr>\n",
              "    <tr>\n",
              "      <th>std</th>\n",
              "      <td>1.000990e+00</td>\n",
              "      <td>1.000990e+00</td>\n",
              "      <td>1.000990e+00</td>\n",
              "      <td>1.000990e+00</td>\n",
              "      <td>1.000990e+00</td>\n",
              "      <td>1.000990e+00</td>\n",
              "      <td>1.000990e+00</td>\n",
              "      <td>1.000990e+00</td>\n",
              "      <td>1.000990e+00</td>\n",
              "      <td>1.000990e+00</td>\n",
              "      <td>1.000990e+00</td>\n",
              "      <td>1.000990e+00</td>\n",
              "      <td>1.000990e+00</td>\n",
              "    </tr>\n",
              "    <tr>\n",
              "      <th>min</th>\n",
              "      <td>-4.197819e-01</td>\n",
              "      <td>-4.877224e-01</td>\n",
              "      <td>-1.557842e+00</td>\n",
              "      <td>-2.725986e-01</td>\n",
              "      <td>-1.465882e+00</td>\n",
              "      <td>-3.880249e+00</td>\n",
              "      <td>-2.335437e+00</td>\n",
              "      <td>-1.267069e+00</td>\n",
              "      <td>-9.828429e-01</td>\n",
              "      <td>-1.313990e+00</td>\n",
              "      <td>-2.707379e+00</td>\n",
              "      <td>-3.907193e+00</td>\n",
              "      <td>-1.531127e+00</td>\n",
              "    </tr>\n",
              "    <tr>\n",
              "      <th>25%</th>\n",
              "      <td>-4.109696e-01</td>\n",
              "      <td>-4.877224e-01</td>\n",
              "      <td>-8.676906e-01</td>\n",
              "      <td>-2.725986e-01</td>\n",
              "      <td>-9.130288e-01</td>\n",
              "      <td>-5.686303e-01</td>\n",
              "      <td>-8.374480e-01</td>\n",
              "      <td>-8.056878e-01</td>\n",
              "      <td>-6.379618e-01</td>\n",
              "      <td>-7.675760e-01</td>\n",
              "      <td>-4.880391e-01</td>\n",
              "      <td>2.050715e-01</td>\n",
              "      <td>-7.994200e-01</td>\n",
              "    </tr>\n",
              "    <tr>\n",
              "      <th>50%</th>\n",
              "      <td>-3.906665e-01</td>\n",
              "      <td>-4.877224e-01</td>\n",
              "      <td>-2.110985e-01</td>\n",
              "      <td>-2.725986e-01</td>\n",
              "      <td>-1.442174e-01</td>\n",
              "      <td>-1.084655e-01</td>\n",
              "      <td>3.173816e-01</td>\n",
              "      <td>-2.793234e-01</td>\n",
              "      <td>-5.230014e-01</td>\n",
              "      <td>-4.646726e-01</td>\n",
              "      <td>2.748590e-01</td>\n",
              "      <td>3.811865e-01</td>\n",
              "      <td>-1.812536e-01</td>\n",
              "    </tr>\n",
              "    <tr>\n",
              "      <th>75%</th>\n",
              "      <td>7.396560e-03</td>\n",
              "      <td>4.877224e-02</td>\n",
              "      <td>1.015999e+00</td>\n",
              "      <td>-2.725986e-01</td>\n",
              "      <td>5.986790e-01</td>\n",
              "      <td>4.827678e-01</td>\n",
              "      <td>9.067981e-01</td>\n",
              "      <td>6.623709e-01</td>\n",
              "      <td>1.661245e+00</td>\n",
              "      <td>1.530926e+00</td>\n",
              "      <td>8.065758e-01</td>\n",
              "      <td>4.336510e-01</td>\n",
              "      <td>6.030188e-01</td>\n",
              "    </tr>\n",
              "    <tr>\n",
              "      <th>max</th>\n",
              "      <td>9.933931e+00</td>\n",
              "      <td>3.804234e+00</td>\n",
              "      <td>2.422565e+00</td>\n",
              "      <td>3.668398e+00</td>\n",
              "      <td>2.732346e+00</td>\n",
              "      <td>3.555044e+00</td>\n",
              "      <td>1.117494e+00</td>\n",
              "      <td>3.960518e+00</td>\n",
              "      <td>1.661245e+00</td>\n",
              "      <td>1.798194e+00</td>\n",
              "      <td>1.638828e+00</td>\n",
              "      <td>4.410519e-01</td>\n",
              "      <td>3.548771e+00</td>\n",
              "    </tr>\n",
              "  </tbody>\n",
              "</table>\n",
              "</div>"
            ],
            "text/plain": [
              "                 0             1   ...            11            12\n",
              "count  5.060000e+02  5.060000e+02  ...  5.060000e+02  5.060000e+02\n",
              "mean  -8.787437e-17 -5.285627e-16  ...  8.075008e-15 -3.370163e-16\n",
              "std    1.000990e+00  1.000990e+00  ...  1.000990e+00  1.000990e+00\n",
              "min   -4.197819e-01 -4.877224e-01  ... -3.907193e+00 -1.531127e+00\n",
              "25%   -4.109696e-01 -4.877224e-01  ...  2.050715e-01 -7.994200e-01\n",
              "50%   -3.906665e-01 -4.877224e-01  ...  3.811865e-01 -1.812536e-01\n",
              "75%    7.396560e-03  4.877224e-02  ...  4.336510e-01  6.030188e-01\n",
              "max    9.933931e+00  3.804234e+00  ...  4.410519e-01  3.548771e+00\n",
              "\n",
              "[8 rows x 13 columns]"
            ]
          },
          "metadata": {
            "tags": []
          },
          "execution_count": 6
        }
      ]
    },
    {
      "cell_type": "code",
      "metadata": {
        "id": "suCyXHYXDkrI",
        "colab": {
          "base_uri": "https://localhost:8080/"
        },
        "outputId": "2de7108f-8eee-46d2-e48c-3615bc44e19b"
      },
      "source": [
        "from sklearn.model_selection import train_test_split\n",
        "Xtrain, Xtest, ytrain, ytest = train_test_split(X, y, random_state=42, train_size=0.8)\n",
        "\n",
        "print(Xtrain.shape, ytrain.shape)"
      ],
      "execution_count": 7,
      "outputs": [
        {
          "output_type": "stream",
          "text": [
            "(404, 13) (404,)\n"
          ],
          "name": "stdout"
        }
      ]
    },
    {
      "cell_type": "code",
      "metadata": {
        "id": "lCaCe_6B951p",
        "colab": {
          "base_uri": "https://localhost:8080/"
        },
        "outputId": "028dac14-c0b0-4ab6-9192-d143fe7d6921"
      },
      "source": [
        "print(\"Attributes:\\n\", Xtrain[:3], \"\\n Prices:\\n\", ytrain[:3])"
      ],
      "execution_count": 8,
      "outputs": [
        {
          "output_type": "stream",
          "text": [
            "Attributes:\n",
            " [[ 1.32780421 -0.48772236  1.01599907 -0.27259857  0.51229565 -1.39706929\n",
            "   1.02148094 -0.80543822  1.66124525  1.53092646  0.80657583 -0.07887794\n",
            "   1.7181012 ]\n",
            " [-0.34750602 -0.48772236 -0.43725801 -0.27259857 -0.14421743 -0.64200019\n",
            "  -0.42939039  0.33444943 -0.6379618  -0.6012761   1.17646583  0.42701755\n",
            "  -0.5863558 ]\n",
            " [-0.41648392  1.01446252 -0.74074945 -0.27259857 -1.00891427 -0.36134243\n",
            "  -1.61000138  1.35273767 -0.98284286 -0.61909395 -0.71922039  0.06113692\n",
            "  -0.67606702]] \n",
            " Prices:\n",
            " [12.  19.9 19.4]\n"
          ],
          "name": "stdout"
        }
      ]
    },
    {
      "cell_type": "markdown",
      "metadata": {
        "id": "X-LgGXITCler"
      },
      "source": [
        "## Linear Regression"
      ]
    },
    {
      "cell_type": "markdown",
      "metadata": {
        "id": "yclxsvq9rWER"
      },
      "source": [
        "[Diabetes dataset Linear Regression Model example](https://scikit-learn.org/stable/auto_examples/linear_model/plot_ols.html)"
      ]
    },
    {
      "cell_type": "code",
      "metadata": {
        "id": "KLRplo6rAhxz"
      },
      "source": [
        "#Linear Regression\n",
        "\n",
        "from sklearn.linear_model import LinearRegression\n",
        "from sklearn.metrics import mean_squared_error\n",
        "from sklearn.metrics import mean_absolute_error\n",
        "\n",
        "#SciKit Lin Reg using the train/test split:\n",
        "#1. Create a model\n",
        "#2. Train\n",
        "#3. Predict\n",
        "\n",
        "#ME\n",
        "model = LinearRegression(fit_intercept=True)\n",
        "model.fit(Xtrain, ytrain)\n",
        "y_model = model.predict(Xtest)\n"
      ],
      "execution_count": 9,
      "outputs": []
    },
    {
      "cell_type": "code",
      "metadata": {
        "id": "nSZShaxmAg-2",
        "colab": {
          "base_uri": "https://localhost:8080/",
          "height": 329
        },
        "outputId": "5bd196e2-38df-4c41-9591-3d441d40a308"
      },
      "source": [
        "#Calculate error and plot\n",
        "mse = mean_squared_error(ytest, y_model)\n",
        "print(\"MSE Linear Regression: %.2f\" % mse)\n",
        "\n",
        "#compare labels\n",
        "plt.scatter(ytest, y_model)\n",
        "plt.xlabel(\"Truth\")\n",
        "plt.ylabel(\"Predicted\")\n",
        "plt.title(\"Boston Housing True vs Predicted prices\")"
      ],
      "execution_count": 10,
      "outputs": [
        {
          "output_type": "stream",
          "text": [
            "MSE Linear Regression: 24.29\n"
          ],
          "name": "stdout"
        },
        {
          "output_type": "execute_result",
          "data": {
            "text/plain": [
              "Text(0.5, 1.0, 'Boston Housing True vs Predicted prices')"
            ]
          },
          "metadata": {
            "tags": []
          },
          "execution_count": 10
        },
        {
          "output_type": "display_data",
          "data": {
            "image/png": "[encoded data removed]",
            "text/plain": [
              "<Figure size 432x288 with 1 Axes>"
            ]
          },
          "metadata": {
            "tags": [],
            "needs_background": "light"
          }
        }
      ]
    },
    {
      "cell_type": "markdown",
      "metadata": {
        "id": "uNVBeDjTOruY"
      },
      "source": [
        "### Solution\n",
        "\n",
        "What did the model learn?"
      ]
    },
    {
      "cell_type": "code",
      "metadata": {
        "id": "FQhMSuiMDy6n",
        "colab": {
          "base_uri": "https://localhost:8080/"
        },
        "outputId": "d16765d0-7bc4-4207-f783-3b2e5533e89d"
      },
      "source": [
        "# Model weights:\n",
        "print(\"Model intercept:\", model.intercept_)\n",
        "print(\"Model slopes:    \", model.coef_)"
      ],
      "execution_count": 11,
      "outputs": [
        {
          "output_type": "stream",
          "text": [
            "Model intercept: 22.485268239316913\n",
            "Model slopes:     [-0.97149423  0.70155562  0.27675212  0.70653152 -1.99143043  3.11571836\n",
            " -0.17706021 -3.04577065  2.28278471 -1.79260468 -1.97995351  1.12649864\n",
            " -3.62814937]\n"
          ],
          "name": "stdout"
        }
      ]
    },
    {
      "cell_type": "markdown",
      "metadata": {
        "id": "IzPnc2yobWQT"
      },
      "source": [
        "### Bonus\n",
        "\n",
        "Add poly features via a pipeline\n",
        "\n",
        "What is a good degree for this model?\n",
        "\n",
        "[make_pipeline documentation](https://scikit-learn.org/stable/modules/generated/sklearn.pipeline.make_pipeline.html)"
      ]
    },
    {
      "cell_type": "code",
      "metadata": {
        "id": "oepn3GpzbeNe"
      },
      "source": [
        "from sklearn.pipeline import make_pipeline\n",
        "from sklearn.preprocessing import PolynomialFeatures\n",
        "#ME\n",
        "model = make_pipeline(PolynomialFeatures(2), LinearRegression(fit_intercept=True))\n"
      ],
      "execution_count": 12,
      "outputs": []
    },
    {
      "cell_type": "code",
      "metadata": {
        "id": "9TMwtsffcJ4a",
        "colab": {
          "base_uri": "https://localhost:8080/",
          "height": 346
        },
        "outputId": "193ba74c-917d-476a-96ae-693f969a2bd6"
      },
      "source": [
        "#train and evaluate \n",
        "\n",
        "model.fit(Xtrain, ytrain)\n",
        "y_model = model.predict(Xtest)\n",
        "\n",
        "#Calculate error and plot\n",
        "mse = mean_squared_error(ytest, y_model)\n",
        "print(\"MSE Linear Regression: %.2f\" % mse)\n",
        "\n",
        "mae = mean_absolute_error(ytest, y_model)\n",
        "print(\"MAE Linear Regression: %.2f\" % mae)\n",
        "\n",
        "#compare labels\n",
        "plt.scatter(ytest, y_model)\n",
        "plt.xlabel(\"Truth\")\n",
        "plt.ylabel(\"Predicted\")\n",
        "plt.title(\"Boston Housing True vs Predicted prices\")"
      ],
      "execution_count": 13,
      "outputs": [
        {
          "output_type": "stream",
          "text": [
            "MSE Linear Regression: 14.25\n",
            "MAE Linear Regression: 2.57\n"
          ],
          "name": "stdout"
        },
        {
          "output_type": "execute_result",
          "data": {
            "text/plain": [
              "Text(0.5, 1.0, 'Boston Housing True vs Predicted prices')"
            ]
          },
          "metadata": {
            "tags": []
          },
          "execution_count": 13
        },
        {
          "output_type": "display_data",
          "data": {
            "image/png": "[encoded data removed]",
            "text/plain": [
              "<Figure size 432x288 with 1 Axes>"
            ]
          },
          "metadata": {
            "tags": [],
            "needs_background": "light"
          }
        }
      ]
    },
    {
      "cell_type": "markdown",
      "metadata": {
        "id": "6FO3a_51DzwV"
      },
      "source": [
        "## Dense NN using Keras"
      ]
    },
    {
      "cell_type": "code",
      "metadata": {
        "id": "f1LCwbe9Dy_x"
      },
      "source": [
        "from keras import models\n",
        "from keras import layers\n",
        "\n",
        "from keras.models import Sequential\n",
        "from keras.layers import Dense\n",
        "from keras.wrappers.scikit_learn import KerasRegressor\n",
        "from sklearn.model_selection import cross_val_score\n",
        "from sklearn.model_selection import KFold\n",
        "from sklearn.preprocessing import StandardScaler\n",
        "from sklearn.pipeline import Pipeline"
      ],
      "execution_count": 14,
      "outputs": []
    },
    {
      "cell_type": "code",
      "metadata": {
        "id": "rqvUJetHDzCO"
      },
      "source": [
        "# define model\n",
        "\n",
        "#Dense is a fully-connected NN: activation(dot(input, kernel) + bias)\n",
        "\n",
        "def ex_model():\n",
        "\t# Add layers in given order\n",
        "  model = Sequential() \n",
        "  #Seq: indicates we want to define the NN layer by layer;\n",
        "  #each layer stacks on top of the next. \n",
        "  #comes with fit,eval,predict. (and corresponding generators)\n",
        "  \n",
        "  model.add(Dense(13, input_shape=(Xtrain.shape[1],), activation='relu'))\n",
        "  #we only need input size for the first layer. After that, it will auto-fill.\n",
        "\n",
        "  model.add(Dense(1))\n",
        "  #no actications for the output layer. used for predicting a continous value.\n",
        "  # Compile model\n",
        "  model.compile(loss='mean_squared_error', optimizer='adam', metrics=['mae'])\n",
        "  return model\n"
      ],
      "execution_count": 15,
      "outputs": []
    },
    {
      "cell_type": "code",
      "metadata": {
        "id": "EP-pDCdtG0cB",
        "colab": {
          "base_uri": "https://localhost:8080/",
          "height": 669
        },
        "outputId": "4344b7c2-5fa8-4f1d-af60-e9f811c804b1"
      },
      "source": [
        "model = ex_model()\n",
        "ne = 10 #number of train loops\n",
        "model.fit(Xtrain, ytrain, epochs=ne, batch_size=1, verbose=1)\n",
        "#see performance on test data using trained model\n",
        "y_nn = model.predict(Xtest)\n",
        "\n",
        "#Calculate error and plot\n",
        "mse = mean_squared_error(ytest, y_nn)\n",
        "print(\"MSE Keras example: %.2f\" % mse)\n",
        "\n",
        "#compare labels\n",
        "plt.scatter(ytest, y_nn)\n",
        "plt.xlabel(\"Truth\")\n",
        "plt.ylabel(\"Predicted\")\n",
        "plt.title(\"Boston Housing True vs Predicted prices\")"
      ],
      "execution_count": 16,
      "outputs": [
        {
          "output_type": "stream",
          "text": [
            "Epoch 1/10\n",
            "404/404 [==============================] - 14s 1ms/step - loss: 607.7304 - mae: 23.0089\n",
            "Epoch 2/10\n",
            "404/404 [==============================] - 0s 1ms/step - loss: 452.7909 - mae: 19.3627\n",
            "Epoch 3/10\n",
            "404/404 [==============================] - 0s 1ms/step - loss: 258.7690 - mae: 13.9426\n",
            "Epoch 4/10\n",
            "404/404 [==============================] - 0s 1ms/step - loss: 108.9560 - mae: 8.1932\n",
            "Epoch 5/10\n",
            "404/404 [==============================] - 0s 1ms/step - loss: 58.8921 - mae: 5.7313\n",
            "Epoch 6/10\n",
            "404/404 [==============================] - 0s 1ms/step - loss: 45.8068 - mae: 4.9445\n",
            "Epoch 7/10\n",
            "404/404 [==============================] - 0s 1ms/step - loss: 29.0401 - mae: 4.1617\n",
            "Epoch 8/10\n",
            "404/404 [==============================] - 0s 1ms/step - loss: 31.7783 - mae: 4.0670\n",
            "Epoch 9/10\n",
            "404/404 [==============================] - 0s 1ms/step - loss: 28.0688 - mae: 3.8927\n",
            "Epoch 10/10\n",
            "404/404 [==============================] - 0s 1ms/step - loss: 26.1582 - mae: 3.7006\n",
            "MSE Keras example: 30.32\n"
          ],
          "name": "stdout"
        },
        {
          "output_type": "execute_result",
          "data": {
            "text/plain": [
              "Text(0.5, 1.0, 'Boston Housing True vs Predicted prices')"
            ]
          },
          "metadata": {
            "tags": []
          },
          "execution_count": 16
        },
        {
          "output_type": "display_data",
          "data": {
            "image/png": "[encoded data removed]",
            "text/plain": [
              "<Figure size 432x288 with 1 Axes>"
            ]
          },
          "metadata": {
            "tags": [],
            "needs_background": "light"
          }
        }
      ]
    },
    {
      "cell_type": "code",
      "metadata": {
        "id": "rX94HeJfDzEH"
      },
      "source": [
        "#alternative approach with cross-validation\n",
        "#model object\n",
        "# estimator = KerasRegressor(build_fn=ex_model, epochs=100, batch_size=5, verbose=1)\n",
        "# \n",
        "# cvf = KFold(n_splits=2)\n",
        "# results = cross_val_score(estimator, X, y, cv=cvf)\n",
        "# print(\"Results: %.2f (+/-%.2f) MSE\" % (results.mean(), results.std()))\n",
        "\n",
        "# Results: -88.81 (46.90) MSE"
      ],
      "execution_count": 17,
      "outputs": []
    },
    {
      "cell_type": "code",
      "metadata": {
        "id": "R_L1ExQ-K0zm"
      },
      "source": [
        ""
      ],
      "execution_count": 17,
      "outputs": []
    },
    {
      "cell_type": "markdown",
      "metadata": {
        "id": "PJm9pL6NK1LC"
      },
      "source": [
        "## Exercise\n",
        "\n",
        "Tune your own neural network to beat linear regression:\n",
        "\n",
        "`MSE Linear Regression: 24.29`\n",
        "\n",
        "What should I change? \n",
        "- train time: What is a good *ne* (number of train loops/epochs)? \n",
        "- Make the network deeper/wider\n",
        "  - tune # of layers/neurons in the model. "
      ]
    },
    {
      "cell_type": "markdown",
      "metadata": {
        "id": "90-r3iT5MCb8"
      },
      "source": [
        "### Larger model example\n",
        "\n",
        "#### How to create a deeper model?\n",
        "Add another layer to your model to make it more flexible <br>\n",
        "\n",
        "#### How to create wider models?\n",
        "increase 13 to 30.\n",
        "\n"
      ]
    },
    {
      "cell_type": "markdown",
      "metadata": {
        "id": "pHWmUXYpusnP"
      },
      "source": [
        "**Con:** The larger the model, the more coeff you have to train. This requires:\n",
        "- more data \n",
        "- more training time\n",
        "If you don't have enough data, your model will *overfit* and won't be able to generalize.\n"
      ]
    },
    {
      "cell_type": "code",
      "metadata": {
        "id": "OOfoEZu-Dp0h",
        "colab": {
          "base_uri": "https://localhost:8080/",
          "height": 1000
        },
        "outputId": "e672e89f-6495-4782-c3e7-23430f37b8bf"
      },
      "source": [
        "\n",
        "def my_model():\n",
        "\t# Add layers in given order\n",
        "  model = Sequential()\n",
        "  model.add(Dense(128, input_shape=(Xtrain.shape[1],), activation='relu'))\n",
        "  model.add(Dense(128, activation='relu'))\n",
        "  model.add(Dense(128, activation='relu'))\n",
        "  model.add(Dense(128, activation='relu'))\n",
        "  model.add(Dense(128, activation='relu'))\n",
        "  model.add(Dense(128, activation='relu'))\n",
        "  model.add(Dense(1))\n",
        "\t# Compile model\n",
        "  model.compile(loss='mean_squared_error', optimizer='adam', metrics=['mae'])\n",
        "  return model\n",
        "\n",
        "ne = 64 #number of train loops\n",
        "\n",
        "#Train\n",
        "model = my_model()\n",
        "model.fit(Xtrain, ytrain, epochs=ne, batch_size=1, verbose=1)\n",
        "\n",
        "#Test\n",
        "#see performance on test data using trained model\n",
        "y_nn = model.predict(Xtest)\n",
        "#Calculate error and plot\n",
        "mse = mean_squared_error(ytest, y_nn)\n",
        "print(\"Test: MSE my network: %.2f\" % mse)\n",
        "\n",
        "mae = mean_absolute_error(ytest, y_nn)\n",
        "print(\"Test: MAE my network: %.2f\" % mae)\n",
        "\n",
        "#compare labels\n",
        "plt.scatter(ytest, y_nn)\n",
        "plt.xlabel(\"Truth\")\n",
        "plt.ylabel(\"Predicted\")\n",
        "plt.title(\"Boston Housing True vs Predicted prices\")"
      ],
      "execution_count": 20,
      "outputs": [
        {
          "output_type": "stream",
          "text": [
            "Epoch 1/64\n",
            "404/404 [==============================] - 2s 2ms/step - loss: 161.9740 - mae: 9.4954\n",
            "Epoch 2/64\n",
            "404/404 [==============================] - 1s 2ms/step - loss: 22.8872 - mae: 3.5344\n",
            "Epoch 3/64\n",
            "404/404 [==============================] - 1s 2ms/step - loss: 23.5885 - mae: 3.4855\n",
            "Epoch 4/64\n",
            "404/404 [==============================] - 1s 2ms/step - loss: 12.9509 - mae: 2.5776\n",
            "Epoch 5/64\n",
            "404/404 [==============================] - 1s 2ms/step - loss: 10.8815 - mae: 2.5055\n",
            "Epoch 6/64\n",
            "404/404 [==============================] - 1s 2ms/step - loss: 18.9822 - mae: 3.1010\n",
            "Epoch 7/64\n",
            "404/404 [==============================] - 1s 2ms/step - loss: 10.5944 - mae: 2.4139\n",
            "Epoch 8/64\n",
            "404/404 [==============================] - 1s 2ms/step - loss: 17.8022 - mae: 3.1422\n",
            "Epoch 9/64\n",
            "404/404 [==============================] - 1s 2ms/step - loss: 12.5744 - mae: 2.8703\n",
            "Epoch 10/64\n",
            "404/404 [==============================] - 1s 2ms/step - loss: 14.9823 - mae: 2.6466\n",
            "Epoch 11/64\n",
            "404/404 [==============================] - 1s 2ms/step - loss: 12.6639 - mae: 2.4982\n",
            "Epoch 12/64\n",
            "404/404 [==============================] - 1s 2ms/step - loss: 9.0220 - mae: 2.2804\n",
            "Epoch 13/64\n",
            "404/404 [==============================] - 1s 2ms/step - loss: 7.1866 - mae: 2.0785\n",
            "Epoch 14/64\n",
            "404/404 [==============================] - 1s 2ms/step - loss: 10.3014 - mae: 2.3728\n",
            "Epoch 15/64\n",
            "404/404 [==============================] - 1s 2ms/step - loss: 7.8148 - mae: 2.1184\n",
            "Epoch 16/64\n",
            "404/404 [==============================] - 1s 2ms/step - loss: 11.5234 - mae: 2.5500\n",
            "Epoch 17/64\n",
            "404/404 [==============================] - 1s 2ms/step - loss: 8.9901 - mae: 2.2196\n",
            "Epoch 18/64\n",
            "404/404 [==============================] - 1s 2ms/step - loss: 7.6811 - mae: 2.0387\n",
            "Epoch 19/64\n",
            "404/404 [==============================] - 1s 2ms/step - loss: 14.8982 - mae: 2.7047\n",
            "Epoch 20/64\n",
            "404/404 [==============================] - 1s 2ms/step - loss: 7.6631 - mae: 2.1521\n",
            "Epoch 21/64\n",
            "404/404 [==============================] - 1s 2ms/step - loss: 6.2762 - mae: 1.8016\n",
            "Epoch 22/64\n",
            "404/404 [==============================] - 1s 2ms/step - loss: 8.3457 - mae: 2.2305\n",
            "Epoch 23/64\n",
            "404/404 [==============================] - 1s 2ms/step - loss: 5.7783 - mae: 1.8125\n",
            "Epoch 24/64\n",
            "404/404 [==============================] - 1s 2ms/step - loss: 8.1387 - mae: 2.2320\n",
            "Epoch 25/64\n",
            "404/404 [==============================] - 1s 2ms/step - loss: 7.0579 - mae: 2.0047\n",
            "Epoch 26/64\n",
            "404/404 [==============================] - 1s 2ms/step - loss: 5.0523 - mae: 1.6703\n",
            "Epoch 27/64\n",
            "404/404 [==============================] - 1s 2ms/step - loss: 4.6587 - mae: 1.6459\n",
            "Epoch 28/64\n",
            "404/404 [==============================] - 1s 2ms/step - loss: 4.6473 - mae: 1.6445\n",
            "Epoch 29/64\n",
            "404/404 [==============================] - 1s 2ms/step - loss: 6.6479 - mae: 1.9113\n",
            "Epoch 30/64\n",
            "404/404 [==============================] - 1s 2ms/step - loss: 4.1030 - mae: 1.4883\n",
            "Epoch 31/64\n",
            "404/404 [==============================] - 1s 2ms/step - loss: 4.4268 - mae: 1.5917\n",
            "Epoch 32/64\n",
            "404/404 [==============================] - 1s 2ms/step - loss: 5.4892 - mae: 1.7830\n",
            "Epoch 33/64\n",
            "404/404 [==============================] - 1s 2ms/step - loss: 7.6969 - mae: 1.9356\n",
            "Epoch 34/64\n",
            "404/404 [==============================] - 1s 2ms/step - loss: 5.3592 - mae: 1.7533\n",
            "Epoch 35/64\n",
            "404/404 [==============================] - 1s 2ms/step - loss: 4.0978 - mae: 1.5291\n",
            "Epoch 36/64\n",
            "404/404 [==============================] - 1s 2ms/step - loss: 6.2211 - mae: 1.8421\n",
            "Epoch 37/64\n",
            "404/404 [==============================] - 1s 2ms/step - loss: 5.4951 - mae: 1.6872\n",
            "Epoch 38/64\n",
            "404/404 [==============================] - 1s 2ms/step - loss: 4.0126 - mae: 1.4630\n",
            "Epoch 39/64\n",
            "404/404 [==============================] - 1s 2ms/step - loss: 6.0301 - mae: 1.7580\n",
            "Epoch 40/64\n",
            "404/404 [==============================] - 1s 2ms/step - loss: 4.3573 - mae: 1.5471\n",
            "Epoch 41/64\n",
            "404/404 [==============================] - 1s 2ms/step - loss: 3.7690 - mae: 1.4333\n",
            "Epoch 42/64\n",
            "404/404 [==============================] - 1s 2ms/step - loss: 3.2777 - mae: 1.3639\n",
            "Epoch 43/64\n",
            "404/404 [==============================] - 1s 2ms/step - loss: 3.6194 - mae: 1.3405\n",
            "Epoch 44/64\n",
            "404/404 [==============================] - 1s 2ms/step - loss: 6.4232 - mae: 1.7525\n",
            "Epoch 45/64\n",
            "404/404 [==============================] - 1s 2ms/step - loss: 4.3773 - mae: 1.5083\n",
            "Epoch 46/64\n",
            "404/404 [==============================] - 1s 2ms/step - loss: 4.0267 - mae: 1.4869\n",
            "Epoch 47/64\n",
            "404/404 [==============================] - 1s 2ms/step - loss: 3.5445 - mae: 1.4241\n",
            "Epoch 48/64\n",
            "404/404 [==============================] - 1s 2ms/step - loss: 4.6398 - mae: 1.5360\n",
            "Epoch 49/64\n",
            "404/404 [==============================] - 1s 2ms/step - loss: 3.6060 - mae: 1.3967\n",
            "Epoch 50/64\n",
            "404/404 [==============================] - 1s 2ms/step - loss: 6.6390 - mae: 1.7551\n",
            "Epoch 51/64\n",
            "404/404 [==============================] - 1s 2ms/step - loss: 2.9906 - mae: 1.2163\n",
            "Epoch 52/64\n",
            "404/404 [==============================] - 1s 2ms/step - loss: 3.6113 - mae: 1.4138\n",
            "Epoch 53/64\n",
            "404/404 [==============================] - 1s 2ms/step - loss: 2.2859 - mae: 1.1007\n",
            "Epoch 54/64\n",
            "404/404 [==============================] - 1s 2ms/step - loss: 3.3608 - mae: 1.3803\n",
            "Epoch 55/64\n",
            "404/404 [==============================] - 1s 2ms/step - loss: 4.6859 - mae: 1.5459\n",
            "Epoch 56/64\n",
            "404/404 [==============================] - 1s 2ms/step - loss: 2.2486 - mae: 1.0948\n",
            "Epoch 57/64\n",
            "404/404 [==============================] - 1s 2ms/step - loss: 2.9195 - mae: 1.2309\n",
            "Epoch 58/64\n",
            "404/404 [==============================] - 1s 2ms/step - loss: 2.9601 - mae: 1.2522\n",
            "Epoch 59/64\n",
            "404/404 [==============================] - 1s 2ms/step - loss: 4.0345 - mae: 1.4495\n",
            "Epoch 60/64\n",
            "404/404 [==============================] - 1s 2ms/step - loss: 2.3595 - mae: 1.1111\n",
            "Epoch 61/64\n",
            "404/404 [==============================] - 1s 2ms/step - loss: 3.5341 - mae: 1.3039\n",
            "Epoch 62/64\n",
            "404/404 [==============================] - 1s 2ms/step - loss: 3.9198 - mae: 1.4011\n",
            "Epoch 63/64\n",
            "404/404 [==============================] - 1s 2ms/step - loss: 2.8075 - mae: 1.2214\n",
            "Epoch 64/64\n",
            "404/404 [==============================] - 1s 2ms/step - loss: 2.7456 - mae: 1.1543\n",
            "Test: MSE my network: 12.46\n",
            "Test: MAE my network: 2.12\n"
          ],
          "name": "stdout"
        },
        {
          "output_type": "execute_result",
          "data": {
            "text/plain": [
              "Text(0.5, 1.0, 'Boston Housing True vs Predicted prices')"
            ]
          },
          "metadata": {
            "tags": []
          },
          "execution_count": 20
        },
        {
          "output_type": "display_data",
          "data": {
            "image/png": "[encoded data removed]",
            "text/plain": [
              "<Figure size 432x288 with 1 Axes>"
            ]
          },
          "metadata": {
            "tags": [],
            "needs_background": "light"
          }
        }
      ]
    },
    {
      "cell_type": "markdown",
      "metadata": {
        "id": "aEmpZctXQHIL"
      },
      "source": [
        "### What did we learn?"
      ]
    },
    {
      "cell_type": "code",
      "metadata": {
        "id": "zrW6Zb3CLZv2",
        "colab": {
          "base_uri": "https://localhost:8080/"
        },
        "outputId": "78785df6-58c1-4019-b512-e4ca349f5b75"
      },
      "source": [
        "weights, bias = model.layers[1].get_weights()\n",
        "\n",
        "print('Weights size: \\n', weights.shape)\n",
        "      \n",
        "print('Weights: \\n', weights,'\\n Bias: \\n' ,bias)"
      ],
      "execution_count": 21,
      "outputs": [
        {
          "output_type": "stream",
          "text": [
            "Weights size: \n",
            " (128, 128)\n",
            "Weights: \n",
            " [[-0.04165901 -0.10711373 -0.08493194 ... -0.05111486 -0.24628675\n",
            "  -0.19719315]\n",
            " [-0.01510939 -0.04958994 -0.01899957 ... -0.14281261 -0.08570752\n",
            "  -0.04435495]\n",
            " [ 0.02233751 -0.07576513  0.07998275 ...  0.07667205  0.12661651\n",
            "   0.03415853]\n",
            " ...\n",
            " [-0.00837354  0.00269647 -0.06664462 ... -0.05818047 -0.17847303\n",
            "  -0.07201324]\n",
            " [ 0.07237002 -0.00971027 -0.13451122 ...  0.03272134  0.04626097\n",
            "   0.07953075]\n",
            " [-0.03358403  0.03438082 -0.03492945 ...  0.05128345  0.02803271\n",
            "  -0.08461209]] \n",
            " Bias: \n",
            " [-6.63866028e-02  1.97868124e-02 -2.89909672e-02  5.27224690e-02\n",
            " -7.10672811e-02 -6.32978305e-02 -1.01828657e-01  2.04412639e-02\n",
            " -6.63630888e-02 -4.99423109e-02  1.22464113e-01 -2.65885461e-02\n",
            " -2.01344088e-01 -4.87654209e-02  5.34573616e-03 -8.23367462e-02\n",
            "  1.62064254e-01 -4.39225100e-02 -6.43844455e-02 -7.01079816e-02\n",
            " -1.17402459e-02 -2.40628775e-02 -3.07276491e-02 -1.05902608e-02\n",
            "  2.15797305e-01 -7.64017180e-02  4.89123166e-02 -7.81193972e-02\n",
            " -3.84090282e-02 -5.25282091e-03 -2.31199756e-01 -8.42063650e-02\n",
            " -7.96120539e-02 -6.56362548e-02 -9.19172317e-02 -4.89283912e-02\n",
            " -1.21460699e-01 -6.42803758e-02 -3.73129658e-02 -1.07862361e-01\n",
            " -8.87652263e-02 -9.03401896e-02 -1.20963315e-02 -3.23425829e-02\n",
            " -7.35001191e-02 -5.92506677e-02 -1.13868333e-01 -7.61529207e-02\n",
            " -9.83695686e-02 -9.02394503e-02 -8.48448202e-02 -6.04053810e-02\n",
            "  7.29714632e-02  1.79589123e-01  1.16457403e-01 -6.55429363e-02\n",
            " -6.59390837e-02  2.15437990e-02 -1.94310360e-02  9.94633660e-02\n",
            "  8.67756549e-03 -7.14471117e-02 -8.77153724e-02 -9.92473960e-03\n",
            " -3.49156298e-02 -6.09625243e-02 -1.06302693e-01 -9.02090222e-02\n",
            " -7.22792149e-02 -1.31045789e-01  1.57270938e-01 -7.97467604e-02\n",
            " -3.74627300e-03 -1.03597537e-01 -8.46830532e-02 -8.97279307e-02\n",
            " -6.00827448e-02 -1.25069516e-02 -2.88432632e-02 -8.44180211e-02\n",
            "  4.70626056e-02 -5.13750575e-02  4.92664762e-02 -7.25270063e-02\n",
            " -2.19474174e-02  1.46876261e-01  3.64698730e-02 -1.29242316e-01\n",
            "  5.69385365e-02 -6.61105514e-02 -9.61549729e-02 -5.97323738e-02\n",
            " -6.25336617e-02 -3.00717019e-02 -8.69471114e-04 -1.00123532e-01\n",
            " -3.42063494e-02 -9.13061276e-02 -7.57651329e-02 -1.96135566e-02\n",
            " -5.42417616e-02 -2.10110247e-02 -2.29937211e-02  8.59269500e-02\n",
            " -6.39782399e-02 -1.10214844e-01 -6.60663173e-02 -4.27511670e-02\n",
            " -1.62444666e-01 -1.66401465e-03 -4.63274829e-02 -1.38934833e-04\n",
            "  2.23241211e-03 -8.05521756e-02 -4.24968973e-02 -5.23421690e-02\n",
            "  3.16662081e-02 -7.09704906e-02 -4.56507429e-02 -6.41630124e-03\n",
            "  1.64958000e-01 -7.20127299e-02  7.54122734e-02 -2.44465210e-02\n",
            " -4.09578681e-02 -7.05336407e-02 -4.38335463e-02 -6.16361275e-02]\n"
          ],
          "name": "stdout"
        }
      ]
    },
    {
      "cell_type": "code",
      "metadata": {
        "id": "w-e1yqfvPCJD"
      },
      "source": [
        ""
      ],
      "execution_count": null,
      "outputs": []
    }
  ]
}